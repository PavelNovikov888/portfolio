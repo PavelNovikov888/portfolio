{
  "nbformat": 4,
  "nbformat_minor": 0,
  "metadata": {
    "colab": {
      "provenance": []
    },
    "kernelspec": {
      "name": "python3",
      "display_name": "Python 3"
    },
    "language_info": {
      "name": "python"
    }
  },
  "cells": [
    {
      "cell_type": "code",
      "execution_count": null,
      "metadata": {
        "id": "PSkpnhqH7GHQ"
      },
      "outputs": [],
      "source": [
        "import pandas as pd\n",
        "import matplotlib.pyplot as plt\n",
        "import seaborn as sns\n",
        "import numpy as np\n",
        "from sklearn import tree\n",
        "from sklearn import model_selection\n",
        "from sklearn import metrics\n",
        "from sklearn.model_selection import GridSearchCV"
      ]
    },
    {
      "cell_type": "code",
      "source": [
        "from google.colab import drive\n",
        "drive.mount('/content/drive')"
      ],
      "metadata": {
        "colab": {
          "base_uri": "https://localhost:8080/"
        },
        "id": "Ptdm6V4S-FLp",
        "outputId": "45eeedb2-faf3-4381-bbe6-34dc4cae0ef1"
      },
      "execution_count": null,
      "outputs": [
        {
          "output_type": "stream",
          "name": "stdout",
          "text": [
            "Drive already mounted at /content/drive; to attempt to forcibly remount, call drive.mount(\"/content/drive\", force_remount=True).\n"
          ]
        }
      ]
    },
    {
      "cell_type": "code",
      "source": [
        "voice_data = pd.read_csv('/content/drive/MyDrive/Colab Notebooks/Деревья_решений Задача классификации/voice_gender.zip')\n",
        "voice_data.head()"
      ],
      "metadata": {
        "colab": {
          "base_uri": "https://localhost:8080/",
          "height": 300
        },
        "id": "eyNidz7J7_gH",
        "outputId": "a3974688-d5d9-439e-9d73-3c720b50e242"
      },
      "execution_count": null,
      "outputs": [
        {
          "output_type": "execute_result",
          "data": {
            "text/plain": [
              "   meanfreq        sd    median       Q25       Q75       IQR       skew  \\\n",
              "0  0.059781  0.064241  0.032027  0.015071  0.090193  0.075122  12.863462   \n",
              "1  0.066009  0.067310  0.040229  0.019414  0.092666  0.073252  22.423285   \n",
              "2  0.077316  0.083829  0.036718  0.008701  0.131908  0.123207  30.757155   \n",
              "3  0.151228  0.072111  0.158011  0.096582  0.207955  0.111374   1.232831   \n",
              "4  0.135120  0.079146  0.124656  0.078720  0.206045  0.127325   1.101174   \n",
              "\n",
              "          kurt    sp.ent       sfm  ...  centroid   meanfun    minfun  \\\n",
              "0   274.402905  0.893369  0.491918  ...  0.059781  0.084279  0.015702   \n",
              "1   634.613855  0.892193  0.513724  ...  0.066009  0.107937  0.015826   \n",
              "2  1024.927705  0.846389  0.478905  ...  0.077316  0.098706  0.015656   \n",
              "3     4.177296  0.963322  0.727232  ...  0.151228  0.088965  0.017798   \n",
              "4     4.333713  0.971955  0.783568  ...  0.135120  0.106398  0.016931   \n",
              "\n",
              "     maxfun   meandom    mindom    maxdom   dfrange   modindx  label  \n",
              "0  0.275862  0.007812  0.007812  0.007812  0.000000  0.000000   male  \n",
              "1  0.250000  0.009014  0.007812  0.054688  0.046875  0.052632   male  \n",
              "2  0.271186  0.007990  0.007812  0.015625  0.007812  0.046512   male  \n",
              "3  0.250000  0.201497  0.007812  0.562500  0.554688  0.247119   male  \n",
              "4  0.266667  0.712812  0.007812  5.484375  5.476562  0.208274   male  \n",
              "\n",
              "[5 rows x 21 columns]"
            ],
            "text/html": [
              "\n",
              "  <div id=\"df-bf6bc232-d0e2-4051-a859-c8d28e483dd6\">\n",
              "    <div class=\"colab-df-container\">\n",
              "      <div>\n",
              "<style scoped>\n",
              "    .dataframe tbody tr th:only-of-type {\n",
              "        vertical-align: middle;\n",
              "    }\n",
              "\n",
              "    .dataframe tbody tr th {\n",
              "        vertical-align: top;\n",
              "    }\n",
              "\n",
              "    .dataframe thead th {\n",
              "        text-align: right;\n",
              "    }\n",
              "</style>\n",
              "<table border=\"1\" class=\"dataframe\">\n",
              "  <thead>\n",
              "    <tr style=\"text-align: right;\">\n",
              "      <th></th>\n",
              "      <th>meanfreq</th>\n",
              "      <th>sd</th>\n",
              "      <th>median</th>\n",
              "      <th>Q25</th>\n",
              "      <th>Q75</th>\n",
              "      <th>IQR</th>\n",
              "      <th>skew</th>\n",
              "      <th>kurt</th>\n",
              "      <th>sp.ent</th>\n",
              "      <th>sfm</th>\n",
              "      <th>...</th>\n",
              "      <th>centroid</th>\n",
              "      <th>meanfun</th>\n",
              "      <th>minfun</th>\n",
              "      <th>maxfun</th>\n",
              "      <th>meandom</th>\n",
              "      <th>mindom</th>\n",
              "      <th>maxdom</th>\n",
              "      <th>dfrange</th>\n",
              "      <th>modindx</th>\n",
              "      <th>label</th>\n",
              "    </tr>\n",
              "  </thead>\n",
              "  <tbody>\n",
              "    <tr>\n",
              "      <th>0</th>\n",
              "      <td>0.059781</td>\n",
              "      <td>0.064241</td>\n",
              "      <td>0.032027</td>\n",
              "      <td>0.015071</td>\n",
              "      <td>0.090193</td>\n",
              "      <td>0.075122</td>\n",
              "      <td>12.863462</td>\n",
              "      <td>274.402905</td>\n",
              "      <td>0.893369</td>\n",
              "      <td>0.491918</td>\n",
              "      <td>...</td>\n",
              "      <td>0.059781</td>\n",
              "      <td>0.084279</td>\n",
              "      <td>0.015702</td>\n",
              "      <td>0.275862</td>\n",
              "      <td>0.007812</td>\n",
              "      <td>0.007812</td>\n",
              "      <td>0.007812</td>\n",
              "      <td>0.000000</td>\n",
              "      <td>0.000000</td>\n",
              "      <td>male</td>\n",
              "    </tr>\n",
              "    <tr>\n",
              "      <th>1</th>\n",
              "      <td>0.066009</td>\n",
              "      <td>0.067310</td>\n",
              "      <td>0.040229</td>\n",
              "      <td>0.019414</td>\n",
              "      <td>0.092666</td>\n",
              "      <td>0.073252</td>\n",
              "      <td>22.423285</td>\n",
              "      <td>634.613855</td>\n",
              "      <td>0.892193</td>\n",
              "      <td>0.513724</td>\n",
              "      <td>...</td>\n",
              "      <td>0.066009</td>\n",
              "      <td>0.107937</td>\n",
              "      <td>0.015826</td>\n",
              "      <td>0.250000</td>\n",
              "      <td>0.009014</td>\n",
              "      <td>0.007812</td>\n",
              "      <td>0.054688</td>\n",
              "      <td>0.046875</td>\n",
              "      <td>0.052632</td>\n",
              "      <td>male</td>\n",
              "    </tr>\n",
              "    <tr>\n",
              "      <th>2</th>\n",
              "      <td>0.077316</td>\n",
              "      <td>0.083829</td>\n",
              "      <td>0.036718</td>\n",
              "      <td>0.008701</td>\n",
              "      <td>0.131908</td>\n",
              "      <td>0.123207</td>\n",
              "      <td>30.757155</td>\n",
              "      <td>1024.927705</td>\n",
              "      <td>0.846389</td>\n",
              "      <td>0.478905</td>\n",
              "      <td>...</td>\n",
              "      <td>0.077316</td>\n",
              "      <td>0.098706</td>\n",
              "      <td>0.015656</td>\n",
              "      <td>0.271186</td>\n",
              "      <td>0.007990</td>\n",
              "      <td>0.007812</td>\n",
              "      <td>0.015625</td>\n",
              "      <td>0.007812</td>\n",
              "      <td>0.046512</td>\n",
              "      <td>male</td>\n",
              "    </tr>\n",
              "    <tr>\n",
              "      <th>3</th>\n",
              "      <td>0.151228</td>\n",
              "      <td>0.072111</td>\n",
              "      <td>0.158011</td>\n",
              "      <td>0.096582</td>\n",
              "      <td>0.207955</td>\n",
              "      <td>0.111374</td>\n",
              "      <td>1.232831</td>\n",
              "      <td>4.177296</td>\n",
              "      <td>0.963322</td>\n",
              "      <td>0.727232</td>\n",
              "      <td>...</td>\n",
              "      <td>0.151228</td>\n",
              "      <td>0.088965</td>\n",
              "      <td>0.017798</td>\n",
              "      <td>0.250000</td>\n",
              "      <td>0.201497</td>\n",
              "      <td>0.007812</td>\n",
              "      <td>0.562500</td>\n",
              "      <td>0.554688</td>\n",
              "      <td>0.247119</td>\n",
              "      <td>male</td>\n",
              "    </tr>\n",
              "    <tr>\n",
              "      <th>4</th>\n",
              "      <td>0.135120</td>\n",
              "      <td>0.079146</td>\n",
              "      <td>0.124656</td>\n",
              "      <td>0.078720</td>\n",
              "      <td>0.206045</td>\n",
              "      <td>0.127325</td>\n",
              "      <td>1.101174</td>\n",
              "      <td>4.333713</td>\n",
              "      <td>0.971955</td>\n",
              "      <td>0.783568</td>\n",
              "      <td>...</td>\n",
              "      <td>0.135120</td>\n",
              "      <td>0.106398</td>\n",
              "      <td>0.016931</td>\n",
              "      <td>0.266667</td>\n",
              "      <td>0.712812</td>\n",
              "      <td>0.007812</td>\n",
              "      <td>5.484375</td>\n",
              "      <td>5.476562</td>\n",
              "      <td>0.208274</td>\n",
              "      <td>male</td>\n",
              "    </tr>\n",
              "  </tbody>\n",
              "</table>\n",
              "<p>5 rows × 21 columns</p>\n",
              "</div>\n",
              "      <button class=\"colab-df-convert\" onclick=\"convertToInteractive('df-bf6bc232-d0e2-4051-a859-c8d28e483dd6')\"\n",
              "              title=\"Convert this dataframe to an interactive table.\"\n",
              "              style=\"display:none;\">\n",
              "        \n",
              "  <svg xmlns=\"http://www.w3.org/2000/svg\" height=\"24px\"viewBox=\"0 0 24 24\"\n",
              "       width=\"24px\">\n",
              "    <path d=\"M0 0h24v24H0V0z\" fill=\"none\"/>\n",
              "    <path d=\"M18.56 5.44l.94 2.06.94-2.06 2.06-.94-2.06-.94-.94-2.06-.94 2.06-2.06.94zm-11 1L8.5 8.5l.94-2.06 2.06-.94-2.06-.94L8.5 2.5l-.94 2.06-2.06.94zm10 10l.94 2.06.94-2.06 2.06-.94-2.06-.94-.94-2.06-.94 2.06-2.06.94z\"/><path d=\"M17.41 7.96l-1.37-1.37c-.4-.4-.92-.59-1.43-.59-.52 0-1.04.2-1.43.59L10.3 9.45l-7.72 7.72c-.78.78-.78 2.05 0 2.83L4 21.41c.39.39.9.59 1.41.59.51 0 1.02-.2 1.41-.59l7.78-7.78 2.81-2.81c.8-.78.8-2.07 0-2.86zM5.41 20L4 18.59l7.72-7.72 1.47 1.35L5.41 20z\"/>\n",
              "  </svg>\n",
              "      </button>\n",
              "      \n",
              "  <style>\n",
              "    .colab-df-container {\n",
              "      display:flex;\n",
              "      flex-wrap:wrap;\n",
              "      gap: 12px;\n",
              "    }\n",
              "\n",
              "    .colab-df-convert {\n",
              "      background-color: #E8F0FE;\n",
              "      border: none;\n",
              "      border-radius: 50%;\n",
              "      cursor: pointer;\n",
              "      display: none;\n",
              "      fill: #1967D2;\n",
              "      height: 32px;\n",
              "      padding: 0 0 0 0;\n",
              "      width: 32px;\n",
              "    }\n",
              "\n",
              "    .colab-df-convert:hover {\n",
              "      background-color: #E2EBFA;\n",
              "      box-shadow: 0px 1px 2px rgba(60, 64, 67, 0.3), 0px 1px 3px 1px rgba(60, 64, 67, 0.15);\n",
              "      fill: #174EA6;\n",
              "    }\n",
              "\n",
              "    [theme=dark] .colab-df-convert {\n",
              "      background-color: #3B4455;\n",
              "      fill: #D2E3FC;\n",
              "    }\n",
              "\n",
              "    [theme=dark] .colab-df-convert:hover {\n",
              "      background-color: #434B5C;\n",
              "      box-shadow: 0px 1px 3px 1px rgba(0, 0, 0, 0.15);\n",
              "      filter: drop-shadow(0px 1px 2px rgba(0, 0, 0, 0.3));\n",
              "      fill: #FFFFFF;\n",
              "    }\n",
              "  </style>\n",
              "\n",
              "      <script>\n",
              "        const buttonEl =\n",
              "          document.querySelector('#df-bf6bc232-d0e2-4051-a859-c8d28e483dd6 button.colab-df-convert');\n",
              "        buttonEl.style.display =\n",
              "          google.colab.kernel.accessAllowed ? 'block' : 'none';\n",
              "\n",
              "        async function convertToInteractive(key) {\n",
              "          const element = document.querySelector('#df-bf6bc232-d0e2-4051-a859-c8d28e483dd6');\n",
              "          const dataTable =\n",
              "            await google.colab.kernel.invokeFunction('convertToInteractive',\n",
              "                                                     [key], {});\n",
              "          if (!dataTable) return;\n",
              "\n",
              "          const docLinkHtml = 'Like what you see? Visit the ' +\n",
              "            '<a target=\"_blank\" href=https://colab.research.google.com/notebooks/data_table.ipynb>data table notebook</a>'\n",
              "            + ' to learn more about interactive tables.';\n",
              "          element.innerHTML = '';\n",
              "          dataTable['output_type'] = 'display_data';\n",
              "          await google.colab.output.renderOutput(dataTable, element);\n",
              "          const docLink = document.createElement('div');\n",
              "          docLink.innerHTML = docLinkHtml;\n",
              "          element.appendChild(docLink);\n",
              "        }\n",
              "      </script>\n",
              "    </div>\n",
              "  </div>\n",
              "  "
            ]
          },
          "metadata": {},
          "execution_count": 3
        }
      ]
    },
    {
      "cell_type": "markdown",
      "source": [
        "Посмотрим на типизацию признаков:"
      ],
      "metadata": {
        "id": "0UyGt3UR-kh4"
      }
    },
    {
      "cell_type": "code",
      "source": [
        "voice_data.info()"
      ],
      "metadata": {
        "colab": {
          "base_uri": "https://localhost:8080/"
        },
        "id": "16r4XseM-mhk",
        "outputId": "1662f16b-cdf5-4ecb-d8c9-d814e1cc1d66"
      },
      "execution_count": null,
      "outputs": [
        {
          "output_type": "stream",
          "name": "stdout",
          "text": [
            "<class 'pandas.core.frame.DataFrame'>\n",
            "RangeIndex: 3168 entries, 0 to 3167\n",
            "Data columns (total 21 columns):\n",
            " #   Column    Non-Null Count  Dtype  \n",
            "---  ------    --------------  -----  \n",
            " 0   meanfreq  3168 non-null   float64\n",
            " 1   sd        3168 non-null   float64\n",
            " 2   median    3168 non-null   float64\n",
            " 3   Q25       3168 non-null   float64\n",
            " 4   Q75       3168 non-null   float64\n",
            " 5   IQR       3168 non-null   float64\n",
            " 6   skew      3168 non-null   float64\n",
            " 7   kurt      3168 non-null   float64\n",
            " 8   sp.ent    3168 non-null   float64\n",
            " 9   sfm       3168 non-null   float64\n",
            " 10  mode      3168 non-null   float64\n",
            " 11  centroid  3168 non-null   float64\n",
            " 12  meanfun   3168 non-null   float64\n",
            " 13  minfun    3168 non-null   float64\n",
            " 14  maxfun    3168 non-null   float64\n",
            " 15  meandom   3168 non-null   float64\n",
            " 16  mindom    3168 non-null   float64\n",
            " 17  maxdom    3168 non-null   float64\n",
            " 18  dfrange   3168 non-null   float64\n",
            " 19  modindx   3168 non-null   float64\n",
            " 20  label     3168 non-null   object \n",
            "dtypes: float64(20), object(1)\n",
            "memory usage: 519.9+ KB\n"
          ]
        }
      ]
    },
    {
      "cell_type": "markdown",
      "source": [
        "Итак, все признаки, за исключением целевого, кодируются числовым форматом. Типизация целевой переменной не имеет значения для моделей машинного обучения в библиотеке sklearn, поэтому кодирование категориальных признаков нам не потребуется."
      ],
      "metadata": {
        "id": "BiuseOFB-zfW"
      }
    },
    {
      "cell_type": "code",
      "source": [
        "#Проверим данные на наличие пропусков:\n",
        "voice_data.isnull().sum().sum()"
      ],
      "metadata": {
        "colab": {
          "base_uri": "https://localhost:8080/"
        },
        "id": "txOEKPYu-25j",
        "outputId": "ae9e45b2-d625-4d26-fb9a-17ebd7d31b51"
      },
      "execution_count": null,
      "outputs": [
        {
          "output_type": "execute_result",
          "data": {
            "text/plain": [
              "0"
            ]
          },
          "metadata": {},
          "execution_count": 5
        }
      ]
    },
    {
      "cell_type": "markdown",
      "source": [
        "Общее количество пропусков в датасете равно 0. Значит, обработка пропущенных значений нам не потребуется."
      ],
      "metadata": {
        "id": "fIvtiBkc_GI7"
      }
    },
    {
      "cell_type": "markdown",
      "source": [
        "Перейдём к формированию обучающей и тестовой выборок. Разделим датасет на две части в соотношении 80/20:"
      ],
      "metadata": {
        "id": "zZwdfiyK_T3l"
      }
    },
    {
      "cell_type": "code",
      "source": [
        "# Формируем обучающую и тестовую выборки\n",
        "X = voice_data.drop(columns = ['label'])\n",
        "y = voice_data['label']\n",
        "X_train, X_test, y_train, y_test = model_selection.train_test_split(X, y, test_size=0.2, stratify=y, random_state=42)\n",
        "print('Train shape: {}'.format(X_train.shape))\n",
        "print('Test shape: {}'.format(X_test.shape))"
      ],
      "metadata": {
        "colab": {
          "base_uri": "https://localhost:8080/"
        },
        "id": "I7A2I-Dp_DPe",
        "outputId": "3918545e-4bfa-40cc-ba54-2c2ea407a96c"
      },
      "execution_count": null,
      "outputs": [
        {
          "output_type": "stream",
          "name": "stdout",
          "text": [
            "Train shape: (2534, 20)\n",
            "Test shape: (634, 20)\n"
          ]
        }
      ]
    },
    {
      "cell_type": "markdown",
      "source": [
        "Дополнительная предобработка данных нам не потребуется, поэтому мы можем смело перейти к построению моделей. Для моделирования мы, конечно же, будем использовать модели «древесного» типа."
      ],
      "metadata": {
        "id": "YG6UTGXxAhGx"
      }
    },
    {
      "cell_type": "markdown",
      "source": [
        "Начнём с решающего пня.\n",
        "\n",
        "Создадим модель дерева решений максимальной глубины 1. В качестве критерия информативности используем энтропию Шеннона.\n",
        "\n",
        "Обучим модель на тренировочной выборке и визуализируем её в виде графа.\n",
        "1. На основе какого фактора будет построено решающее правило в корневой вершине?\n"
      ],
      "metadata": {
        "id": "WXTqMijGAqII"
      }
    },
    {
      "cell_type": "code",
      "source": [
        "# Создаем модель дерева решений\n",
        "dt = tree.DecisionTreeClassifier(\n",
        "    criterion='entropy', #критерий информативности\n",
        "    max_depth=1,\n",
        "    random_state=0 #генератор случайных чисел\n",
        ")\n",
        "dt.fit(X_train, y_train)"
      ],
      "metadata": {
        "colab": {
          "base_uri": "https://localhost:8080/"
        },
        "id": "mHU8x3fIAbTZ",
        "outputId": "0dc15738-ccf8-414c-930f-cd549c2b303b"
      },
      "execution_count": null,
      "outputs": [
        {
          "output_type": "execute_result",
          "data": {
            "text/plain": [
              "DecisionTreeClassifier(criterion='entropy', max_depth=1, random_state=0)"
            ]
          },
          "metadata": {},
          "execution_count": 8
        }
      ]
    },
    {
      "cell_type": "code",
      "source": [
        "# Визуализируем дерево решений в виде графа\n",
        "tree.plot_tree(\n",
        "    decision_tree=dt, #дерево решений\n",
        "    feature_names=X.columns, #имена факторов\n",
        "    filled=True, #расцветка\n",
        "    impurity=True, #отображать ли неоднородность в вершинах\n",
        ");"
      ],
      "metadata": {
        "colab": {
          "base_uri": "https://localhost:8080/",
          "height": 248
        },
        "id": "Jh4CJm0BBmEb",
        "outputId": "bbc820b1-cbcf-44be-a445-71a1e134a8f5"
      },
      "execution_count": null,
      "outputs": [
        {
          "output_type": "display_data",
          "data": {
            "text/plain": [
              "<Figure size 432x288 with 1 Axes>"
            ],
            "image/png": "[encoded data removed]"
          },
          "metadata": {
            "needs_background": "light"
          }
        }
      ]
    },
    {
      "cell_type": "markdown",
      "source": [
        "Сколько процентов наблюдений, для которых выполняется заданное в корневой вершине условие, содержится в обучающей выборке? Ответ округлите до одного знака после точки-разделителя. Не указывайте в ответе символ %."
      ],
      "metadata": {
        "id": "TPISyEdbD5vB"
      }
    },
    {
      "cell_type": "code",
      "source": [
        "print(round(1296/2534*100,1))"
      ],
      "metadata": {
        "colab": {
          "base_uri": "https://localhost:8080/"
        },
        "id": "8psFN-P4D8rS",
        "outputId": "51c48590-65f8-4d96-d0e8-23d34fcb243c"
      },
      "execution_count": null,
      "outputs": [
        {
          "output_type": "stream",
          "name": "stdout",
          "text": [
            "51.1\n"
          ]
        }
      ]
    },
    {
      "cell_type": "markdown",
      "source": [
        " Сделайте предсказание и рассчитайте значение метрики accuracy на тестовой выборке. Ответ округлите до трёх знаков после точки-разделителя."
      ],
      "metadata": {
        "id": "RVT7WD5CIsvq"
      }
    },
    {
      "cell_type": "code",
      "source": [
        "#Выводим значения метрики\n",
        "y_test_pred = dt.predict(X_test)\n",
        "print('Test: {:.3f}'.format(metrics.accuracy_score(y_test, y_test_pred)))"
      ],
      "metadata": {
        "colab": {
          "base_uri": "https://localhost:8080/"
        },
        "id": "EXNHamIFGAEx",
        "outputId": "3764419c-b9ed-4351-ad08-79dae89d0709"
      },
      "execution_count": null,
      "outputs": [
        {
          "output_type": "stream",
          "name": "stdout",
          "text": [
            "Test: 0.956\n"
          ]
        }
      ]
    },
    {
      "cell_type": "markdown",
      "source": [
        "Увеличим глубину дерева.\n",
        "\n",
        "Создайте дерево решений с максимальной глубиной 2. В качестве критерия информативности используйте энтропию Шеннона.\n",
        "\n",
        "Обучите модель на тренировочной выборке и визуализируйте её в виде графа."
      ],
      "metadata": {
        "id": "vgkcku9tI1qk"
      }
    },
    {
      "cell_type": "code",
      "source": [
        "# Создаем модель дерева решений\n",
        "dt2 = tree.DecisionTreeClassifier(\n",
        "    criterion='entropy', #критерий информативности\n",
        "    max_depth=2,\n",
        "    random_state=0 #генератор случайных чисел\n",
        ")\n",
        "\n",
        "dt2.fit(X_train, y_train)\n",
        "\n",
        "# Визуализируем дерево решений в виде графа\n",
        "tree.plot_tree(\n",
        "    decision_tree=dt2, #дерево решений\n",
        "    feature_names=X_train.columns,\n",
        "    class_names=dt2.classes_, #имена факторов\n",
        "    filled=True, #расцветка\n",
        "    impurity=True, #отображать ли неоднородность в вершинах\n",
        ");\n"
      ],
      "metadata": {
        "colab": {
          "base_uri": "https://localhost:8080/",
          "height": 248
        },
        "id": "UfYNWGNgI-gt",
        "outputId": "c183941c-5e02-4322-b2cd-5e361b233a3b"
      },
      "execution_count": null,
      "outputs": [
        {
          "output_type": "display_data",
          "data": {
            "text/plain": [
              "<Figure size 432x288 with 1 Axes>"
            ],
            "image/png": "[encoded data removed]"
          },
          "metadata": {
            "needs_background": "light"
          }
        }
      ]
    },
    {
      "cell_type": "markdown",
      "source": [
        " Сколько листьев в построенном дереве содержат в качестве предсказания класс female? Для того, чтобы отобразить имена классов при визуализации дерева решения с помощью функции plot_tree(), укажите параметр class_names=dt.classes_."
      ],
      "metadata": {
        "id": "9JCExqegJoRU"
      }
    },
    {
      "cell_type": "markdown",
      "source": [
        " Сделайте предсказание и рассчитайте значение метрики accuracy на тестовой выборке. Ответ округлите до трёх знаков после точки-разделителя."
      ],
      "metadata": {
        "id": "H33C24ZkKBsz"
      }
    },
    {
      "cell_type": "code",
      "source": [
        "#Выводим значения метрики\n",
        "y_test_pred = dt2.predict(X_test)\n",
        "print('Test: {:.3f}'.format(metrics.accuracy_score(y_test, y_test_pred)))"
      ],
      "metadata": {
        "colab": {
          "base_uri": "https://localhost:8080/"
        },
        "id": "SRrtYpHtKp_8",
        "outputId": "47c714c3-08a8-4f93-f2d9-fcf9e7ae0ab2"
      },
      "execution_count": null,
      "outputs": [
        {
          "output_type": "stream",
          "name": "stdout",
          "text": [
            "Test: 0.962\n"
          ]
        }
      ]
    },
    {
      "cell_type": "markdown",
      "source": [
        "Давайте дадим дереву решений полную свободу.\n",
        "\n",
        "Создайте дерево решений, не ограничивая его максимальную глубину. В качестве критерия информативности используйте энтропию Шеннона.\n",
        "\n",
        "В качестве значения параметра random_state возьмите 0.\n",
        "\n",
        "Обучите модель на тренировочной выборке."
      ],
      "metadata": {
        "id": "sYXofN20K4MG"
      }
    },
    {
      "cell_type": "code",
      "source": [
        "# Создаем модель дерева решений\n",
        "dt3 = tree.DecisionTreeClassifier(\n",
        "    criterion='entropy', #критерий информативности\n",
        "    random_state=0 #генератор случайных чисел\n",
        ")\n",
        "\n",
        "dt3.fit(X_train, y_train)"
      ],
      "metadata": {
        "colab": {
          "base_uri": "https://localhost:8080/"
        },
        "id": "SRUDeVBdLGuC",
        "outputId": "2af08041-9d16-4da7-ff2b-c9df9be1cfd6"
      },
      "execution_count": null,
      "outputs": [
        {
          "output_type": "execute_result",
          "data": {
            "text/plain": [
              "DecisionTreeClassifier(criterion='entropy', random_state=0)"
            ]
          },
          "metadata": {},
          "execution_count": 18
        }
      ]
    },
    {
      "cell_type": "markdown",
      "source": [
        "Чему равна глубина полученного дерева решения? Напомним, что глубину дерева можно узнать с помощью метода get_depth()."
      ],
      "metadata": {
        "id": "T4ayHSKYLUDv"
      }
    },
    {
      "cell_type": "code",
      "source": [
        "dt3.get_depth()"
      ],
      "metadata": {
        "colab": {
          "base_uri": "https://localhost:8080/"
        },
        "id": "dpPxDSuOLdtt",
        "outputId": "c20b42ba-d03f-4e78-af67-0067ff1fca78"
      },
      "execution_count": null,
      "outputs": [
        {
          "output_type": "execute_result",
          "data": {
            "text/plain": [
              "12"
            ]
          },
          "metadata": {},
          "execution_count": 19
        }
      ]
    },
    {
      "cell_type": "markdown",
      "source": [
        "Чему равно количество листьев в полученном дереве решений? Напомним, что количество листьев можно узнать с помощью метода get_n_leaves()."
      ],
      "metadata": {
        "id": "KArpO83XL5HO"
      }
    },
    {
      "cell_type": "code",
      "source": [
        "dt3.get_n_leaves()\n"
      ],
      "metadata": {
        "colab": {
          "base_uri": "https://localhost:8080/"
        },
        "id": "a2IlbqvgLxny",
        "outputId": "85017786-ee87-493c-e97a-3b462d795f18"
      },
      "execution_count": null,
      "outputs": [
        {
          "output_type": "execute_result",
          "data": {
            "text/plain": [
              "54"
            ]
          },
          "metadata": {},
          "execution_count": 20
        }
      ]
    },
    {
      "cell_type": "markdown",
      "source": [
        "Сделайте предсказание для обучающей и тестовой выборок и рассчитайте значение метрики accuracy на каждой из выборок. Ответы округлите до трёх знаков после точки-разделителя."
      ],
      "metadata": {
        "id": "AiEDVGM2MRug"
      }
    },
    {
      "cell_type": "code",
      "source": [
        "#Выводим значения метрики\n",
        "y_train_pred = dt3.predict(X_train)\n",
        "print('Train: {:.3f}'.format(metrics.accuracy_score(y_train, y_train_pred)))\n",
        "y_test_pred = dt3.predict(X_test)\n",
        "print('Test: {:.3f}'.format(metrics.accuracy_score(y_test, y_test_pred)))"
      ],
      "metadata": {
        "colab": {
          "base_uri": "https://localhost:8080/"
        },
        "id": "T1exJgTgMNd8",
        "outputId": "db7f70fe-d217-489e-95b7-a0fe3782e2fd"
      },
      "execution_count": null,
      "outputs": [
        {
          "output_type": "stream",
          "name": "stdout",
          "text": [
            "Train: 1.000\n",
            "Test: 0.973\n"
          ]
        }
      ]
    },
    {
      "cell_type": "markdown",
      "source": [
        "Давайте попробуем найти оптимальные внешние параметры модели дерева решений для поставленной задачи. Воспользуемся классическим методом подбора гиперпараметров — перебором на сетке с кросс-валидацией (Grid SearchCV)."
      ],
      "metadata": {
        "id": "3P5YJqEmMxs4"
      }
    },
    {
      "cell_type": "code",
      "source": [
        "# Задаём сетку параметров\n",
        "param_grid = {\n",
        "    'criterion': ['gini', 'entropy'], #критерий информативности\n",
        "    'max_depth': [4, 5, 6, 7, 8, 9, 10], #максимальная глубина дерева\n",
        "    'min_samples_split': [3, 4, 5, 10] #минимальное количество объектов, необходимое для сплита\n",
        "}"
      ],
      "metadata": {
        "id": "2pu-HCzvND3W"
      },
      "execution_count": null,
      "outputs": []
    },
    {
      "cell_type": "code",
      "source": [
        "# Задаём метод кросс-валидации\n",
        "cv = model_selection.StratifiedKFold(n_splits=5)"
      ],
      "metadata": {
        "id": "fe7YJulfNNqz"
      },
      "execution_count": null,
      "outputs": []
    },
    {
      "cell_type": "markdown",
      "source": [
        "С помощью Grid SearchCV из модуля model_selection библиотеки sklearn переберите гиперпараметры дерева решений из приведённой сетки на обучающей выборке и найдите оптимальные. Параметр random_state для дерева решений установите равным 0. В качестве метрики качества (параметр scoring) используйте accuracy."
      ],
      "metadata": {
        "id": "GJr4H8ofNVjJ"
      }
    },
    {
      "cell_type": "code",
      "source": [
        "grid_search = GridSearchCV(\n",
        "    #алгоритм, который будем оптимизировать\n",
        "    estimator=tree.DecisionTreeClassifier(\n",
        "        random_state=0 #генератор случайных чисел\n",
        "    ),\n",
        "    param_grid=param_grid,\n",
        "    #количество фолдов в кросс-валидации\n",
        "    cv=model_selection.StratifiedKFold(n_splits=5)\n",
        ")\n",
        "%time grid_search.fit(X_train, y_train)\n",
        "y_train_pred = grid_search.predict(X_train)\n",
        "print('Train: {:.3f}'.format(metrics.accuracy_score(y_train, y_train_pred)))\n",
        "y_test_pred = grid_search.predict(X_test)\n",
        "print('Test: {:.3f}'.format(metrics.accuracy_score(y_test, y_test_pred)))\n",
        "print(\"Наилучшие значения гиперпараметров: {}\".format(grid_search.best_params_))"
      ],
      "metadata": {
        "colab": {
          "base_uri": "https://localhost:8080/"
        },
        "id": "6f_mHRAlOkXG",
        "outputId": "3a399964-7270-417a-fb61-87e75a8ea0ad"
      },
      "execution_count": null,
      "outputs": [
        {
          "output_type": "stream",
          "name": "stdout",
          "text": [
            "CPU times: user 9.69 s, sys: 0 ns, total: 9.69 s\n",
            "Wall time: 9.75 s\n",
            "Train: 0.996\n",
            "Test: 0.970\n",
            "Наилучшие значения гиперпараметров: {'criterion': 'gini', 'max_depth': 7, 'min_samples_split': 3}\n"
          ]
        }
      ]
    },
    {
      "cell_type": "code",
      "source": [
        "# Создаем модель дерева решений\n",
        "dt_best = tree.DecisionTreeClassifier(\n",
        "   criterion = 'gini', #критерий информативности\n",
        "   max_depth = 7,\n",
        "   min_samples_split = 3,\n",
        "   random_state=0 #генератор случайных чисел\n",
        ")\n",
        "\n",
        "dt_best.fit(X_train, y_train)\n",
        "importances = dt_best.feature_importances_\n",
        "\n",
        "importances1 = pd.DataFrame(importances, index = X_train.columns, columns = [\"meaning\"]).sort_values(by= \"meaning\", ascending=False)\n",
        "print(importances1)"
      ],
      "metadata": {
        "colab": {
          "base_uri": "https://localhost:8080/"
        },
        "id": "4y2n6LjmZ9ct",
        "outputId": "906e10db-aba3-4ce5-9b17-b9666f28c363"
      },
      "execution_count": null,
      "outputs": [
        {
          "output_type": "stream",
          "name": "stdout",
          "text": [
            "           meaning\n",
            "meanfun   0.861347\n",
            "IQR       0.056810\n",
            "sfm       0.018004\n",
            "minfun    0.014153\n",
            "dfrange   0.006888\n",
            "kurt      0.006544\n",
            "mode      0.006047\n",
            "centroid  0.005985\n",
            "skew      0.004196\n",
            "sd        0.004120\n",
            "Q75       0.003614\n",
            "median    0.003247\n",
            "meanfreq  0.002571\n",
            "mindom    0.001534\n",
            "Q25       0.001432\n",
            "modindx   0.001388\n",
            "meandom   0.001200\n",
            "sp.ent    0.000919\n",
            "maxfun    0.000000\n",
            "maxdom    0.000000\n"
          ]
        }
      ]
    },
    {
      "cell_type": "code",
      "source": [
        "ax = sns.barplot(y=importances1.index, x=importances1.iloc[:,0], data = importances1, ci= None);\n",
        "ax.set_title(\"feature importances\", fontsize=14)\n",
        "ax.set_xlabel(\"meaning\", fontsize=14)\n",
        "ax.set_ylabel(\"feature\", fontsize=14)"
      ],
      "metadata": {
        "colab": {
          "base_uri": "https://localhost:8080/",
          "height": 317
        },
        "id": "ndkLI0vjfoWs",
        "outputId": "077c1fc9-846b-49b2-8f69-b98d698b2dc8"
      },
      "execution_count": null,
      "outputs": [
        {
          "output_type": "execute_result",
          "data": {
            "text/plain": [
              "Text(0, 0.5, 'feature')"
            ]
          },
          "metadata": {},
          "execution_count": 62
        },
        {
          "output_type": "display_data",
          "data": {
            "text/plain": [
              "<Figure size 432x288 with 1 Axes>"
            ],
            "image/png": "[encoded data removed]"
          },
          "metadata": {
            "needs_background": "light"
          }
        }
      ]
    },
    {
      "cell_type": "markdown",
      "source": [
        "#Практика эталон"
      ],
      "metadata": {
        "id": "zVZgcyJ21mqx"
      }
    },
    {
      "cell_type": "markdown",
      "source": [
        " Задание 7.1\n",
        "\n",
        "Начнём с решающего пня.\n",
        "\n",
        "Создайте модель дерева решений максимальной глубины  \n",
        "1. В качестве критерия информативности используйте энтропию Шеннона.\n",
        "\n",
        "Обучите модель на тренировочной выборке и визуализируйте её в виде графа.\n",
        "1. На основе какого фактора будет построено решающее правило в корневой вершине?\n",
        "meanfreq (средняя частота)\n",
        "median (медианная частота)\n",
        "IQR (межквартильный размах частот)\n",
        "meanfun (средняя основная частота в акустическом спектре)\n",
        "minfun (минимальная основная частота в акустическом спектре)\n",
        "Q25 (первый квартиль частоты)\n",
        "верно\n",
        "2. Чему равно оптимальное пороговое значение для данного фактора? Ответ округлите до трёх знаков после точки-разделителя.\n",
        "верно\n",
        "3. Сколько процентов наблюдений, для которых выполняется заданное в корневой вершине условие, содержится в обучающей выборке? Ответ округлите до одного знака после точки-разделителя. Не указывайте в ответе символ %.\n",
        "верно\n",
        "4. Сделайте предсказание и рассчитайте значение метрики accuracy на тестовой выборке. Ответ округлите до трёх знаков после точки-разделителя."
      ],
      "metadata": {
        "id": "Qm_2F37Z2ksx"
      }
    },
    {
      "cell_type": "code",
      "source": [
        "#Задание 7.1\n",
        "\n",
        "# Инициализируем модель дерева решений с глубиной 1 и обучаем ее\n",
        "dt = tree.DecisionTreeClassifier(\n",
        "    max_depth=1, #глубина\n",
        "    criterion='entropy' #критерий информативности\n",
        ")\n",
        "dt.fit(X_train, y_train)\n",
        "\n",
        "# Визуализируем дерево решений в виде графа\n",
        "fig = plt.figure(figsize=(15, 7))\n",
        "tree_graph = tree.plot_tree(\n",
        "    decision_tree=dt, #дерево\n",
        "    feature_names=X.columns, #имена факторов\n",
        "    proportion=True, #выводить ли количество данных в пропорциях\n",
        "    filled=True, #расцветка\n",
        "    class_names=dt.classes_, #имена классов\n",
        ");\n",
        "# Делаем предсказание\n",
        "y_test_pred = dt.predict(X_test)\n",
        "# Считаем метрику accuracy на тестовой выборке\n",
        "print('Accuracy: {:.3f}'.format(metrics.accuracy_score(y_test, y_test_pred)))\n",
        "\n"
      ],
      "metadata": {
        "id": "Y2SzDEU-1vwD"
      },
      "execution_count": null,
      "outputs": []
    },
    {
      "cell_type": "markdown",
      "source": [
        "Задание 7.2\n",
        "\n",
        "Увеличим глубину дерева.\n",
        "\n",
        "Создайте дерево решений с максимальной глубиной  \n",
        " 2. В качестве критерия информативности используйте энтропию Шеннона.\n",
        "\n",
        "Обучите модель на тренировочной выборке и визуализируйте её в виде графа.\n",
        "1. Из приведённых ниже факторов выберите те, что используются при построении данного дерева решений:\n",
        "A meanfreq (средняя частота)\n",
        "B median (медианная частота)\n",
        "C IQR (межквартильный размах частот)\n",
        "D meanfun (средняя основная частота в акустическом спектре)\n",
        "E minfun (минимальная основная частота в акустическом спектре)\n",
        "F Q25 (первый квартиль частоты)\n",
        "верно\n",
        "Ответ\n",
        "Верно:\n",
        "C Верно.\n",
        "D Верно.\n",
        "F Верно.\n",
        "2. Сколько листьев в построенном дереве содержат в качестве предсказания класс female? Для того, чтобы отобразить имена классов при визуализации дерева решения с помощью функции plot_tree(), укажите параметр class_names=dt.classes_.\n",
        "3. Сделайте предсказание и рассчитайте значение метрики accuracy на тестовой выборке. Ответ округлите до трёх знаков после точки-разделителя."
      ],
      "metadata": {
        "id": "TEYXK9Pt2wvp"
      }
    },
    {
      "cell_type": "code",
      "source": [
        "#Задание 7.2\n",
        "\n",
        "# Инициализируем модель дерева решений с глубиной 1 и обучаем ее\n",
        "dt = tree.DecisionTreeClassifier(\n",
        "    max_depth=2, #глубина\n",
        "    criterion='entropy', #критерий информативности\n",
        "    random_state=42\n",
        ")\n",
        "dt.fit(X_train, y_train)\n",
        "# Визуализируем дерево решений в виде графа\n",
        "fig = plt.figure(figsize=(15, 7))\n",
        "tree_graph = tree.plot_tree(\n",
        "    decision_tree=dt, #дерево\n",
        "    feature_names=X.columns, #имена факторов\n",
        "    proportion=True, #выводить ли количество данных в пропорциях\n",
        "    filled=True, #расцветка\n",
        "    class_names=dt.classes_, #имена классов\n",
        ");\n",
        "# Делаем предсказание\n",
        "y_test_pred = dt.predict(X_test)\n",
        "# Считаем метрику accuracy на тестовой выборке\n",
        "print('Accuracy: {:.3f}'.format(metrics.accuracy_score(y_test, y_test_pred)))"
      ],
      "metadata": {
        "id": "syZRD-3C1xBI"
      },
      "execution_count": null,
      "outputs": []
    },
    {
      "cell_type": "markdown",
      "source": [
        "Задание 7.3\n",
        "\n",
        "Давайте дадим дереву решений полную свободу.\n",
        "\n",
        "Создайте дерево решений, не ограничивая его максимальную глубину. В качестве критерия информативности используйте энтропию Шеннона.\n",
        "\n",
        "В качестве значения параметра random_state возьмите 0.\n",
        "\n",
        "Обучите модель на тренировочной выборке.\n",
        "1. Чему равна глубина полученного дерева решения? Напомним, что глубину дерева можно узнать с помощью метода get_depth().\n",
        "2. Чему равно количество листьев в полученном дереве решений? Напомним, что количество листьев можно узнать с помощью метода get_n_leaves().\n",
        "3. Сделайте предсказание для обучающей и тестовой выборок и рассчитайте значение метрики accuracy на каждой из выборок. Ответы округлите до трёх знаков после точки-разделителя.\n",
        "accuracy на обучающей выборке:\n",
        "accuracy на тестовой выборке:"
      ],
      "metadata": {
        "id": "IbA6nKPW3IgK"
      }
    },
    {
      "cell_type": "code",
      "source": [
        "#Задание 7.3\n",
        "\n",
        "# Инициализируем модель дерева решений с глубиной 1 и обучаем ее\n",
        "dt = tree.DecisionTreeClassifier(\n",
        "    criterion='entropy', #критерий информативности\n",
        "    random_state=0 #генератор случайных чисел\n",
        ")\n",
        "dt.fit(X_train, y_train)\n",
        "print('Depth: {}'.format(dt.get_depth()))\n",
        "print('Count of leaves: {}'.format(dt.get_n_leaves()))\n",
        "# Делаем предсказание\n",
        "y_train_pred = dt.predict(X_train)\n",
        "y_test_pred = dt.predict(X_test)\n",
        "# Считаем метрику accuracy на обучающей и тестовой выборках\n",
        "print('Train accuracy: {:.3f}'.format(metrics.accuracy_score(y_train, y_train_pred)))\n",
        "print('Test accuracy: {:.3f}'.format(metrics.accuracy_score(y_test, y_test_pred)))\n",
        "\n"
      ],
      "metadata": {
        "id": "QYbrWTbI15iY"
      },
      "execution_count": null,
      "outputs": []
    },
    {
      "cell_type": "markdown",
      "source": [
        "Задание 7.4\n",
        "\n",
        "Давайте попробуем найти оптимальные внешние параметры модели дерева решений для поставленной задачи. Воспользуемся классическим методом подбора гиперпараметров — перебором на сетке с кросс-валидацией (Grid SearchCV).\n",
        "\n",
        "Задана следующая сетка параметров:\n",
        "\n",
        "### Задаём сетку параметров\n",
        "param_grid = {\n",
        "\n",
        "    'criterion': ['gini', 'entropy'], #критерий информативности\n",
        "    'max_depth': [4, 5, 6, 7, 8, 9, 10], #максимальная глубина дерева\n",
        "    'min_samples_split': [3, 4, 5, 10] #минимальное количество объектов, необходимое для сплита\n",
        "}\n",
        "\n",
        "В качестве кросс-валидатора будем использовать k-fold-валидатор со стратификацией (StratifiedKFold):\n",
        "\n",
        "### Задаём метод кросс-валидации\n",
        "cv = model_selection.StratifiedKFold(n_splits=5)\n",
        "\n",
        "С помощью Grid SearchCV из модуля model_selection библиотеки sklearn переберите гиперпараметры дерева решений из приведённой сетки на обучающей выборке и найдите оптимальные. Параметр random_state для дерева решений установите равным 0. В качестве метрики качества (параметр scoring) используйте accuracy.\n",
        "1. Какой критерий информативности использует наилучшая модель?\n",
        "Критерий Джини\n",
        "Энтропия Шеннона\n",
        "2. Чему равна оптимальная максимальная глубина?\n",
        "3. Чему равно оптимальное минимальное количество объектов, необходимое для разбиения?\n",
        "4. С помощью наилучшей модели сделайте предсказание для обучающей и тестовой выборок. Рассчитайте значение метрики accuracy на каждой из выборок. Ответы округлите до трёх знаков после точки-разделителя.\n",
        "accuracy на обучающей выборке:\n",
        "accuracy на тестовой выборке:"
      ],
      "metadata": {
        "id": "NTvXKxRM3aMP"
      }
    },
    {
      "cell_type": "code",
      "source": [
        "#Задание 7.4\n",
        "\n",
        "# Задаем сетку параметров\n",
        "param_grid = {\n",
        "    'criterion': ['gini', 'entropy'], #критерий информативности\n",
        "    'max_depth': [4, 5, 6, 7, 8, 9, 10], #максимальная глубина дерева\n",
        "    'min_samples_split': [3, 4, 5, 10] #минимальное количество объектов, необходимое для сплита\n",
        "}\n",
        "\n",
        "# Задаем метод кросс-валидации\n",
        "cv = model_selection.StratifiedKFold(n_splits=5)\n",
        "\n",
        "# Инициализируем поиск на сетке и обучаем его\n",
        "gs = model_selection.GridSearchCV(\n",
        "    estimator=tree.DecisionTreeClassifier(random_state=0), #модель\n",
        "    param_grid=param_grid, #сетка параметров\n",
        "    scoring='accuracy', #метрика\n",
        "    cv=cv, #кросс-валидатор\n",
        "    n_jobs=-1 #используем все мощности процессора\n",
        ")\n",
        "gs.fit(X_train, y_train)\n",
        "print(gs.best_params_)\n",
        "# Определяем наилучшую модель\n",
        "best_tree = gs.best_estimator_\n",
        "\n",
        "# Делаем предсказание\n",
        "y_train_pred = best_tree.predict(X_train)\n",
        "y_test_pred = best_tree.predict(X_test)\n",
        "# Считаем метрику accuracy на обучающей и тестовой выборках\n",
        "print('Train accuracy: {:.3f}'.format(metrics.accuracy_score(y_train, y_train_pred)))\n",
        "print('Test accuracy: {:.3f}'.format(metrics.accuracy_score(y_test, y_test_pred)))"
      ],
      "metadata": {
        "id": "zYkf66Yd2Nk9"
      },
      "execution_count": null,
      "outputs": []
    },
    {
      "cell_type": "markdown",
      "source": [
        "Задание 7.5\n",
        "\n",
        "Для оптимального дерева решений, построенного в задании 7.4, найдите важность каждого из факторов.   \n",
        "\n",
        "Визуализируйте её в виде столбчатой диаграммы.\n",
        "\n",
        "Выделите топ-3 наиболее важных факторов, участвующих в построении дерева решений:\n",
        "A meanfreq (средняя частота)\n",
        "B median (медианная частота)\n",
        "C IQR (межквартильный размах частот)\n",
        "D meanfun (средняя основная частота в акустическом спектре)\n",
        "E minfun (минимальная основная частота в акустическом спектре)\n",
        "F Q25 (первый квартиль частоты)\n",
        "F sfm (спектральная равномерность)\n",
        "верно\n",
        "Ответ\n",
        "Верно:\n",
        "C Верно.\n",
        "D Верно.\n",
        "F Верно.\n"
      ],
      "metadata": {
        "id": "IIYEr6aw32VB"
      }
    },
    {
      "cell_type": "code",
      "source": [
        "#Задание 7.5\n",
        "\n",
        "fig, ax = plt.subplots(figsize=(13, 5)) #фигура + координатная плоскость\n",
        "features = X.columns #признаки\n",
        "feature_importances = best_tree.feature_importances_ #важность признаков\n",
        "# Создаём DataFrame, содержащий информацию о важности признаков\n",
        "importances_data = pd.DataFrame({'features': features, 'importances': feature_importances})\n",
        "importances_data = importances_data.sort_values(by='importances', ascending=False)\n",
        "# Строим столбчатую диаграмму\n",
        "sns.barplot(data=importances_data, x='features', y='importances', ax=ax);\n",
        "# Добавляем подпись к графику и поворот меток на оси абсцисс\n",
        "ax.set_title('Bar plot feature importances')\n",
        "ax.xaxis.set_tick_params(rotation=90)"
      ],
      "metadata": {
        "id": "NbkCRI1_2TW1"
      },
      "execution_count": null,
      "outputs": []
    }
  ]
}