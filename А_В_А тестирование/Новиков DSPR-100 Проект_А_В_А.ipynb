{
  "cells": [
    {
      "cell_type": "markdown",
      "source": [
        "# A/B/A тестирование продаж маркетплейса"
      ],
      "metadata": {
        "id": "ntxm4tOC-mFN"
      }
    },
    {
      "cell_type": "markdown",
      "metadata": {
        "id": "D4F8kqW0kFA-"
      },
      "source": [
        "# Задание:\n",
        "К вам попали результаты A/A/B-тестирования от одного известного маркетплейса.\n",
        "\n",
        "- sample_a, sample_c — АА-группы,\n",
        "- sample_b — отдельная группа.\n",
        "\n",
        "В каждом датасете есть три типа действий пользователей: 0 — клик, 1 — просмотр и 2 — покупка (пользователь просматривает выдачу товаров, кликает на понравившийся товар и совершает покупку).\n",
        "\n",
        "Маркетплейс ориентируется на следующие метрики:\n",
        "\n",
        "- ctr (отношение кликов к просмотрам товаров);\n",
        "- purchase rate (отношение покупок к просмотрам товаров);\n",
        "- gmv (оборот, сумма произведений количества покупок на стоимость покупки, где считаем 1 сессию за 1 точку (1 сессия на 1 пользователя)).\n",
        "\n",
        "Данные уже почищены по сессиям, вы можете использовать их в агрегированном виде. Ваша задача — понять, нет ли проблемы с разъезжанием сплитов и улучшает ли алгоритм B работу маркетплейса."
      ]
    },
    {
      "cell_type": "markdown",
      "source": [
        "> В данном ноутбуке во избежание путаницы 2-я А группа именуется C группой"
      ],
      "metadata": {
        "id": "4j_DZloqbHjI"
      }
    },
    {
      "cell_type": "markdown",
      "source": [
        "# Библиотеки и данные"
      ],
      "metadata": {
        "id": "yRstiHY4bZJd"
      }
    },
    {
      "cell_type": "code",
      "execution_count": 279,
      "metadata": {
        "id": "5dL3e3UikDPS"
      },
      "outputs": [],
      "source": [
        "import pandas as pd\n",
        "import numpy as np\n",
        "import matplotlib.pyplot as plt\n",
        "import seaborn as sns\n",
        "\n",
        "import scipy.stats as stats\n",
        "import numpy as np\n",
        "\n",
        "#импортируем библиотеку для z-теста\n",
        "from statsmodels.stats.proportion import proportions_ztest\n",
        "\n",
        "#В колабе импортируем все необходимые библиотеки\n",
        "from pydrive2.auth import GoogleAuth\n",
        "from pydrive2.drive import GoogleDrive\n",
        "from google.colab import auth\n",
        "from oauth2client.client import GoogleCredentials\n",
        "\n",
        "#Привязываем гуглдиск к колабу\n",
        "auth.authenticate_user()\n",
        "gauth = GoogleAuth()\n",
        "gauth.credentials = GoogleCredentials.get_application_default()\n",
        "drive = GoogleDrive(gauth)\n",
        "\n",
        "# Загружаем файл в колаб\n",
        "download = drive.CreateFile({\"id\": \"1EdzNqq-52evjkkvu10_-OFyElCIDTpNO\"})\n",
        "# https://drive.google.com/file/d/1EdzNqq-52evjkkvu10_-OFyElCIDTpNO/view?usp=sharing\n",
        "download.GetContentFile(\"item_prices.zip\")\n",
        "\n",
        "download = drive.CreateFile({\"id\": \"1A8kXwEAJG2c6K_T48WDJmgpToECwSKL7\"})\n",
        "# https://drive.google.com/file/d/1A8kXwEAJG2c6K_T48WDJmgpToECwSKL7/view?usp=sharing\n",
        "download.GetContentFile(\"sample_a.zip\")\n",
        "\n",
        "download = drive.CreateFile({\"id\": \"1VnzwUqfgBBUaoPQAX9jLfO-UeSwRNqaQ\"})\n",
        "# https://drive.google.com/file/d/1VnzwUqfgBBUaoPQAX9jLfO-UeSwRNqaQ/view?usp=sharing\n",
        "download.GetContentFile(\"sample_b.zip\")\n",
        "\n",
        "download = drive.CreateFile({\"id\": \"1yu4UerR0PpaaKg8oHhT6fuzQUsfMbcG3\"})\n",
        "# https://drive.google.com/file/d/1yu4UerR0PpaaKg8oHhT6fuzQUsfMbcG3/view?usp=drive_link\n",
        "download.GetContentFile(\"sample_c.zip\")\n",
        "\n",
        "item_prices = pd.read_csv(\"item_prices.zip\")\n",
        "sample_a = pd.read_csv(\"sample_a.zip\")\n",
        "sample_b = pd.read_csv(\"sample_b.zip\")\n",
        "sample_c = pd.read_csv(\"sample_c.zip\")"
      ]
    },
    {
      "cell_type": "code",
      "execution_count": 280,
      "metadata": {
        "colab": {
          "base_uri": "https://localhost:8080/",
          "height": 206
        },
        "id": "1t6I-CA1qGkW",
        "outputId": "b2cc2100-d013-4d1b-deaa-ffd6a12c0d13"
      },
      "outputs": [
        {
          "output_type": "execute_result",
          "data": {
            "text/plain": [
              "   item_id  item_price\n",
              "0      338        1501\n",
              "1       74         647\n",
              "2     7696         825\n",
              "3      866         875\n",
              "4     5876         804"
            ],
            "text/html": [
              "\n",
              "  <div id=\"df-614e3e13-5e9f-4b4b-8bb3-b57483b76394\" class=\"colab-df-container\">\n",
              "    <div>\n",
              "<style scoped>\n",
              "    .dataframe tbody tr th:only-of-type {\n",
              "        vertical-align: middle;\n",
              "    }\n",
              "\n",
              "    .dataframe tbody tr th {\n",
              "        vertical-align: top;\n",
              "    }\n",
              "\n",
              "    .dataframe thead th {\n",
              "        text-align: right;\n",
              "    }\n",
              "</style>\n",
              "<table border=\"1\" class=\"dataframe\">\n",
              "  <thead>\n",
              "    <tr style=\"text-align: right;\">\n",
              "      <th></th>\n",
              "      <th>item_id</th>\n",
              "      <th>item_price</th>\n",
              "    </tr>\n",
              "  </thead>\n",
              "  <tbody>\n",
              "    <tr>\n",
              "      <th>0</th>\n",
              "      <td>338</td>\n",
              "      <td>1501</td>\n",
              "    </tr>\n",
              "    <tr>\n",
              "      <th>1</th>\n",
              "      <td>74</td>\n",
              "      <td>647</td>\n",
              "    </tr>\n",
              "    <tr>\n",
              "      <th>2</th>\n",
              "      <td>7696</td>\n",
              "      <td>825</td>\n",
              "    </tr>\n",
              "    <tr>\n",
              "      <th>3</th>\n",
              "      <td>866</td>\n",
              "      <td>875</td>\n",
              "    </tr>\n",
              "    <tr>\n",
              "      <th>4</th>\n",
              "      <td>5876</td>\n",
              "      <td>804</td>\n",
              "    </tr>\n",
              "  </tbody>\n",
              "</table>\n",
              "</div>\n",
              "    <div class=\"colab-df-buttons\">\n",
              "\n",
              "  <div class=\"colab-df-container\">\n",
              "    <button class=\"colab-df-convert\" onclick=\"convertToInteractive('df-614e3e13-5e9f-4b4b-8bb3-b57483b76394')\"\n",
              "            title=\"Convert this dataframe to an interactive table.\"\n",
              "            style=\"display:none;\">\n",
              "\n",
              "  <svg xmlns=\"http://www.w3.org/2000/svg\" height=\"24px\" viewBox=\"0 -960 960 960\">\n",
              "    <path d=\"M120-120v-720h720v720H120Zm60-500h600v-160H180v160Zm220 220h160v-160H400v160Zm0 220h160v-160H400v160ZM180-400h160v-160H180v160Zm440 0h160v-160H620v160ZM180-180h160v-160H180v160Zm440 0h160v-160H620v160Z\"/>\n",
              "  </svg>\n",
              "    </button>\n",
              "\n",
              "  <style>\n",
              "    .colab-df-container {\n",
              "      display:flex;\n",
              "      gap: 12px;\n",
              "    }\n",
              "\n",
              "    .colab-df-convert {\n",
              "      background-color: #E8F0FE;\n",
              "      border: none;\n",
              "      border-radius: 50%;\n",
              "      cursor: pointer;\n",
              "      display: none;\n",
              "      fill: #1967D2;\n",
              "      height: 32px;\n",
              "      padding: 0 0 0 0;\n",
              "      width: 32px;\n",
              "    }\n",
              "\n",
              "    .colab-df-convert:hover {\n",
              "      background-color: #E2EBFA;\n",
              "      box-shadow: 0px 1px 2px rgba(60, 64, 67, 0.3), 0px 1px 3px 1px rgba(60, 64, 67, 0.15);\n",
              "      fill: #174EA6;\n",
              "    }\n",
              "\n",
              "    .colab-df-buttons div {\n",
              "      margin-bottom: 4px;\n",
              "    }\n",
              "\n",
              "    [theme=dark] .colab-df-convert {\n",
              "      background-color: #3B4455;\n",
              "      fill: #D2E3FC;\n",
              "    }\n",
              "\n",
              "    [theme=dark] .colab-df-convert:hover {\n",
              "      background-color: #434B5C;\n",
              "      box-shadow: 0px 1px 3px 1px rgba(0, 0, 0, 0.15);\n",
              "      filter: drop-shadow(0px 1px 2px rgba(0, 0, 0, 0.3));\n",
              "      fill: #FFFFFF;\n",
              "    }\n",
              "  </style>\n",
              "\n",
              "    <script>\n",
              "      const buttonEl =\n",
              "        document.querySelector('#df-614e3e13-5e9f-4b4b-8bb3-b57483b76394 button.colab-df-convert');\n",
              "      buttonEl.style.display =\n",
              "        google.colab.kernel.accessAllowed ? 'block' : 'none';\n",
              "\n",
              "      async function convertToInteractive(key) {\n",
              "        const element = document.querySelector('#df-614e3e13-5e9f-4b4b-8bb3-b57483b76394');\n",
              "        const dataTable =\n",
              "          await google.colab.kernel.invokeFunction('convertToInteractive',\n",
              "                                                    [key], {});\n",
              "        if (!dataTable) return;\n",
              "\n",
              "        const docLinkHtml = 'Like what you see? Visit the ' +\n",
              "          '<a target=\"_blank\" href=https://colab.research.google.com/notebooks/data_table.ipynb>data table notebook</a>'\n",
              "          + ' to learn more about interactive tables.';\n",
              "        element.innerHTML = '';\n",
              "        dataTable['output_type'] = 'display_data';\n",
              "        await google.colab.output.renderOutput(dataTable, element);\n",
              "        const docLink = document.createElement('div');\n",
              "        docLink.innerHTML = docLinkHtml;\n",
              "        element.appendChild(docLink);\n",
              "      }\n",
              "    </script>\n",
              "  </div>\n",
              "\n",
              "\n",
              "<div id=\"df-84972d66-fd60-4266-88ab-f3bbeb85f740\">\n",
              "  <button class=\"colab-df-quickchart\" onclick=\"quickchart('df-84972d66-fd60-4266-88ab-f3bbeb85f740')\"\n",
              "            title=\"Suggest charts\"\n",
              "            style=\"display:none;\">\n",
              "\n",
              "<svg xmlns=\"http://www.w3.org/2000/svg\" height=\"24px\"viewBox=\"0 0 24 24\"\n",
              "     width=\"24px\">\n",
              "    <g>\n",
              "        <path d=\"M19 3H5c-1.1 0-2 .9-2 2v14c0 1.1.9 2 2 2h14c1.1 0 2-.9 2-2V5c0-1.1-.9-2-2-2zM9 17H7v-7h2v7zm4 0h-2V7h2v10zm4 0h-2v-4h2v4z\"/>\n",
              "    </g>\n",
              "</svg>\n",
              "  </button>\n",
              "\n",
              "<style>\n",
              "  .colab-df-quickchart {\n",
              "      --bg-color: #E8F0FE;\n",
              "      --fill-color: #1967D2;\n",
              "      --hover-bg-color: #E2EBFA;\n",
              "      --hover-fill-color: #174EA6;\n",
              "      --disabled-fill-color: #AAA;\n",
              "      --disabled-bg-color: #DDD;\n",
              "  }\n",
              "\n",
              "  [theme=dark] .colab-df-quickchart {\n",
              "      --bg-color: #3B4455;\n",
              "      --fill-color: #D2E3FC;\n",
              "      --hover-bg-color: #434B5C;\n",
              "      --hover-fill-color: #FFFFFF;\n",
              "      --disabled-bg-color: #3B4455;\n",
              "      --disabled-fill-color: #666;\n",
              "  }\n",
              "\n",
              "  .colab-df-quickchart {\n",
              "    background-color: var(--bg-color);\n",
              "    border: none;\n",
              "    border-radius: 50%;\n",
              "    cursor: pointer;\n",
              "    display: none;\n",
              "    fill: var(--fill-color);\n",
              "    height: 32px;\n",
              "    padding: 0;\n",
              "    width: 32px;\n",
              "  }\n",
              "\n",
              "  .colab-df-quickchart:hover {\n",
              "    background-color: var(--hover-bg-color);\n",
              "    box-shadow: 0 1px 2px rgba(60, 64, 67, 0.3), 0 1px 3px 1px rgba(60, 64, 67, 0.15);\n",
              "    fill: var(--button-hover-fill-color);\n",
              "  }\n",
              "\n",
              "  .colab-df-quickchart-complete:disabled,\n",
              "  .colab-df-quickchart-complete:disabled:hover {\n",
              "    background-color: var(--disabled-bg-color);\n",
              "    fill: var(--disabled-fill-color);\n",
              "    box-shadow: none;\n",
              "  }\n",
              "\n",
              "  .colab-df-spinner {\n",
              "    border: 2px solid var(--fill-color);\n",
              "    border-color: transparent;\n",
              "    border-bottom-color: var(--fill-color);\n",
              "    animation:\n",
              "      spin 1s steps(1) infinite;\n",
              "  }\n",
              "\n",
              "  @keyframes spin {\n",
              "    0% {\n",
              "      border-color: transparent;\n",
              "      border-bottom-color: var(--fill-color);\n",
              "      border-left-color: var(--fill-color);\n",
              "    }\n",
              "    20% {\n",
              "      border-color: transparent;\n",
              "      border-left-color: var(--fill-color);\n",
              "      border-top-color: var(--fill-color);\n",
              "    }\n",
              "    30% {\n",
              "      border-color: transparent;\n",
              "      border-left-color: var(--fill-color);\n",
              "      border-top-color: var(--fill-color);\n",
              "      border-right-color: var(--fill-color);\n",
              "    }\n",
              "    40% {\n",
              "      border-color: transparent;\n",
              "      border-right-color: var(--fill-color);\n",
              "      border-top-color: var(--fill-color);\n",
              "    }\n",
              "    60% {\n",
              "      border-color: transparent;\n",
              "      border-right-color: var(--fill-color);\n",
              "    }\n",
              "    80% {\n",
              "      border-color: transparent;\n",
              "      border-right-color: var(--fill-color);\n",
              "      border-bottom-color: var(--fill-color);\n",
              "    }\n",
              "    90% {\n",
              "      border-color: transparent;\n",
              "      border-bottom-color: var(--fill-color);\n",
              "    }\n",
              "  }\n",
              "</style>\n",
              "\n",
              "  <script>\n",
              "    async function quickchart(key) {\n",
              "      const quickchartButtonEl =\n",
              "        document.querySelector('#' + key + ' button');\n",
              "      quickchartButtonEl.disabled = true;  // To prevent multiple clicks.\n",
              "      quickchartButtonEl.classList.add('colab-df-spinner');\n",
              "      try {\n",
              "        const charts = await google.colab.kernel.invokeFunction(\n",
              "            'suggestCharts', [key], {});\n",
              "      } catch (error) {\n",
              "        console.error('Error during call to suggestCharts:', error);\n",
              "      }\n",
              "      quickchartButtonEl.classList.remove('colab-df-spinner');\n",
              "      quickchartButtonEl.classList.add('colab-df-quickchart-complete');\n",
              "    }\n",
              "    (() => {\n",
              "      let quickchartButtonEl =\n",
              "        document.querySelector('#df-84972d66-fd60-4266-88ab-f3bbeb85f740 button');\n",
              "      quickchartButtonEl.style.display =\n",
              "        google.colab.kernel.accessAllowed ? 'block' : 'none';\n",
              "    })();\n",
              "  </script>\n",
              "</div>\n",
              "    </div>\n",
              "  </div>\n"
            ]
          },
          "metadata": {},
          "execution_count": 280
        }
      ],
      "source": [
        "item_prices.head()"
      ]
    },
    {
      "cell_type": "code",
      "execution_count": 281,
      "metadata": {
        "colab": {
          "base_uri": "https://localhost:8080/"
        },
        "id": "fjp5Zy1dxXWU",
        "outputId": "6484d05a-11f2-45a9-f178-b7005e3a51fe"
      },
      "outputs": [
        {
          "output_type": "stream",
          "name": "stdout",
          "text": [
            "<class 'pandas.core.frame.DataFrame'>\n",
            "RangeIndex: 1000 entries, 0 to 999\n",
            "Data columns (total 2 columns):\n",
            " #   Column      Non-Null Count  Dtype\n",
            "---  ------      --------------  -----\n",
            " 0   item_id     1000 non-null   int64\n",
            " 1   item_price  1000 non-null   int64\n",
            "dtypes: int64(2)\n",
            "memory usage: 15.8 KB\n"
          ]
        }
      ],
      "source": [
        "item_prices.info()"
      ]
    },
    {
      "cell_type": "code",
      "execution_count": 282,
      "metadata": {
        "colab": {
          "base_uri": "https://localhost:8080/",
          "height": 206
        },
        "id": "vVjOyUiPxlzT",
        "outputId": "1b171021-33d6-491d-8ff1-39321c683917"
      },
      "outputs": [
        {
          "output_type": "execute_result",
          "data": {
            "text/plain": [
              "   user_id  item_id  action_id\n",
              "0    84636      360          1\n",
              "1    21217     9635          1\n",
              "2    13445     8590          1\n",
              "3    38450     5585          1\n",
              "4    14160     2383          0"
            ],
            "text/html": [
              "\n",
              "  <div id=\"df-7964b08d-851d-4981-9924-18aece4bcd3e\" class=\"colab-df-container\">\n",
              "    <div>\n",
              "<style scoped>\n",
              "    .dataframe tbody tr th:only-of-type {\n",
              "        vertical-align: middle;\n",
              "    }\n",
              "\n",
              "    .dataframe tbody tr th {\n",
              "        vertical-align: top;\n",
              "    }\n",
              "\n",
              "    .dataframe thead th {\n",
              "        text-align: right;\n",
              "    }\n",
              "</style>\n",
              "<table border=\"1\" class=\"dataframe\">\n",
              "  <thead>\n",
              "    <tr style=\"text-align: right;\">\n",
              "      <th></th>\n",
              "      <th>user_id</th>\n",
              "      <th>item_id</th>\n",
              "      <th>action_id</th>\n",
              "    </tr>\n",
              "  </thead>\n",
              "  <tbody>\n",
              "    <tr>\n",
              "      <th>0</th>\n",
              "      <td>84636</td>\n",
              "      <td>360</td>\n",
              "      <td>1</td>\n",
              "    </tr>\n",
              "    <tr>\n",
              "      <th>1</th>\n",
              "      <td>21217</td>\n",
              "      <td>9635</td>\n",
              "      <td>1</td>\n",
              "    </tr>\n",
              "    <tr>\n",
              "      <th>2</th>\n",
              "      <td>13445</td>\n",
              "      <td>8590</td>\n",
              "      <td>1</td>\n",
              "    </tr>\n",
              "    <tr>\n",
              "      <th>3</th>\n",
              "      <td>38450</td>\n",
              "      <td>5585</td>\n",
              "      <td>1</td>\n",
              "    </tr>\n",
              "    <tr>\n",
              "      <th>4</th>\n",
              "      <td>14160</td>\n",
              "      <td>2383</td>\n",
              "      <td>0</td>\n",
              "    </tr>\n",
              "  </tbody>\n",
              "</table>\n",
              "</div>\n",
              "    <div class=\"colab-df-buttons\">\n",
              "\n",
              "  <div class=\"colab-df-container\">\n",
              "    <button class=\"colab-df-convert\" onclick=\"convertToInteractive('df-7964b08d-851d-4981-9924-18aece4bcd3e')\"\n",
              "            title=\"Convert this dataframe to an interactive table.\"\n",
              "            style=\"display:none;\">\n",
              "\n",
              "  <svg xmlns=\"http://www.w3.org/2000/svg\" height=\"24px\" viewBox=\"0 -960 960 960\">\n",
              "    <path d=\"M120-120v-720h720v720H120Zm60-500h600v-160H180v160Zm220 220h160v-160H400v160Zm0 220h160v-160H400v160ZM180-400h160v-160H180v160Zm440 0h160v-160H620v160ZM180-180h160v-160H180v160Zm440 0h160v-160H620v160Z\"/>\n",
              "  </svg>\n",
              "    </button>\n",
              "\n",
              "  <style>\n",
              "    .colab-df-container {\n",
              "      display:flex;\n",
              "      gap: 12px;\n",
              "    }\n",
              "\n",
              "    .colab-df-convert {\n",
              "      background-color: #E8F0FE;\n",
              "      border: none;\n",
              "      border-radius: 50%;\n",
              "      cursor: pointer;\n",
              "      display: none;\n",
              "      fill: #1967D2;\n",
              "      height: 32px;\n",
              "      padding: 0 0 0 0;\n",
              "      width: 32px;\n",
              "    }\n",
              "\n",
              "    .colab-df-convert:hover {\n",
              "      background-color: #E2EBFA;\n",
              "      box-shadow: 0px 1px 2px rgba(60, 64, 67, 0.3), 0px 1px 3px 1px rgba(60, 64, 67, 0.15);\n",
              "      fill: #174EA6;\n",
              "    }\n",
              "\n",
              "    .colab-df-buttons div {\n",
              "      margin-bottom: 4px;\n",
              "    }\n",
              "\n",
              "    [theme=dark] .colab-df-convert {\n",
              "      background-color: #3B4455;\n",
              "      fill: #D2E3FC;\n",
              "    }\n",
              "\n",
              "    [theme=dark] .colab-df-convert:hover {\n",
              "      background-color: #434B5C;\n",
              "      box-shadow: 0px 1px 3px 1px rgba(0, 0, 0, 0.15);\n",
              "      filter: drop-shadow(0px 1px 2px rgba(0, 0, 0, 0.3));\n",
              "      fill: #FFFFFF;\n",
              "    }\n",
              "  </style>\n",
              "\n",
              "    <script>\n",
              "      const buttonEl =\n",
              "        document.querySelector('#df-7964b08d-851d-4981-9924-18aece4bcd3e button.colab-df-convert');\n",
              "      buttonEl.style.display =\n",
              "        google.colab.kernel.accessAllowed ? 'block' : 'none';\n",
              "\n",
              "      async function convertToInteractive(key) {\n",
              "        const element = document.querySelector('#df-7964b08d-851d-4981-9924-18aece4bcd3e');\n",
              "        const dataTable =\n",
              "          await google.colab.kernel.invokeFunction('convertToInteractive',\n",
              "                                                    [key], {});\n",
              "        if (!dataTable) return;\n",
              "\n",
              "        const docLinkHtml = 'Like what you see? Visit the ' +\n",
              "          '<a target=\"_blank\" href=https://colab.research.google.com/notebooks/data_table.ipynb>data table notebook</a>'\n",
              "          + ' to learn more about interactive tables.';\n",
              "        element.innerHTML = '';\n",
              "        dataTable['output_type'] = 'display_data';\n",
              "        await google.colab.output.renderOutput(dataTable, element);\n",
              "        const docLink = document.createElement('div');\n",
              "        docLink.innerHTML = docLinkHtml;\n",
              "        element.appendChild(docLink);\n",
              "      }\n",
              "    </script>\n",
              "  </div>\n",
              "\n",
              "\n",
              "<div id=\"df-4efff716-1558-4565-a081-58fcb9f614c2\">\n",
              "  <button class=\"colab-df-quickchart\" onclick=\"quickchart('df-4efff716-1558-4565-a081-58fcb9f614c2')\"\n",
              "            title=\"Suggest charts\"\n",
              "            style=\"display:none;\">\n",
              "\n",
              "<svg xmlns=\"http://www.w3.org/2000/svg\" height=\"24px\"viewBox=\"0 0 24 24\"\n",
              "     width=\"24px\">\n",
              "    <g>\n",
              "        <path d=\"M19 3H5c-1.1 0-2 .9-2 2v14c0 1.1.9 2 2 2h14c1.1 0 2-.9 2-2V5c0-1.1-.9-2-2-2zM9 17H7v-7h2v7zm4 0h-2V7h2v10zm4 0h-2v-4h2v4z\"/>\n",
              "    </g>\n",
              "</svg>\n",
              "  </button>\n",
              "\n",
              "<style>\n",
              "  .colab-df-quickchart {\n",
              "      --bg-color: #E8F0FE;\n",
              "      --fill-color: #1967D2;\n",
              "      --hover-bg-color: #E2EBFA;\n",
              "      --hover-fill-color: #174EA6;\n",
              "      --disabled-fill-color: #AAA;\n",
              "      --disabled-bg-color: #DDD;\n",
              "  }\n",
              "\n",
              "  [theme=dark] .colab-df-quickchart {\n",
              "      --bg-color: #3B4455;\n",
              "      --fill-color: #D2E3FC;\n",
              "      --hover-bg-color: #434B5C;\n",
              "      --hover-fill-color: #FFFFFF;\n",
              "      --disabled-bg-color: #3B4455;\n",
              "      --disabled-fill-color: #666;\n",
              "  }\n",
              "\n",
              "  .colab-df-quickchart {\n",
              "    background-color: var(--bg-color);\n",
              "    border: none;\n",
              "    border-radius: 50%;\n",
              "    cursor: pointer;\n",
              "    display: none;\n",
              "    fill: var(--fill-color);\n",
              "    height: 32px;\n",
              "    padding: 0;\n",
              "    width: 32px;\n",
              "  }\n",
              "\n",
              "  .colab-df-quickchart:hover {\n",
              "    background-color: var(--hover-bg-color);\n",
              "    box-shadow: 0 1px 2px rgba(60, 64, 67, 0.3), 0 1px 3px 1px rgba(60, 64, 67, 0.15);\n",
              "    fill: var(--button-hover-fill-color);\n",
              "  }\n",
              "\n",
              "  .colab-df-quickchart-complete:disabled,\n",
              "  .colab-df-quickchart-complete:disabled:hover {\n",
              "    background-color: var(--disabled-bg-color);\n",
              "    fill: var(--disabled-fill-color);\n",
              "    box-shadow: none;\n",
              "  }\n",
              "\n",
              "  .colab-df-spinner {\n",
              "    border: 2px solid var(--fill-color);\n",
              "    border-color: transparent;\n",
              "    border-bottom-color: var(--fill-color);\n",
              "    animation:\n",
              "      spin 1s steps(1) infinite;\n",
              "  }\n",
              "\n",
              "  @keyframes spin {\n",
              "    0% {\n",
              "      border-color: transparent;\n",
              "      border-bottom-color: var(--fill-color);\n",
              "      border-left-color: var(--fill-color);\n",
              "    }\n",
              "    20% {\n",
              "      border-color: transparent;\n",
              "      border-left-color: var(--fill-color);\n",
              "      border-top-color: var(--fill-color);\n",
              "    }\n",
              "    30% {\n",
              "      border-color: transparent;\n",
              "      border-left-color: var(--fill-color);\n",
              "      border-top-color: var(--fill-color);\n",
              "      border-right-color: var(--fill-color);\n",
              "    }\n",
              "    40% {\n",
              "      border-color: transparent;\n",
              "      border-right-color: var(--fill-color);\n",
              "      border-top-color: var(--fill-color);\n",
              "    }\n",
              "    60% {\n",
              "      border-color: transparent;\n",
              "      border-right-color: var(--fill-color);\n",
              "    }\n",
              "    80% {\n",
              "      border-color: transparent;\n",
              "      border-right-color: var(--fill-color);\n",
              "      border-bottom-color: var(--fill-color);\n",
              "    }\n",
              "    90% {\n",
              "      border-color: transparent;\n",
              "      border-bottom-color: var(--fill-color);\n",
              "    }\n",
              "  }\n",
              "</style>\n",
              "\n",
              "  <script>\n",
              "    async function quickchart(key) {\n",
              "      const quickchartButtonEl =\n",
              "        document.querySelector('#' + key + ' button');\n",
              "      quickchartButtonEl.disabled = true;  // To prevent multiple clicks.\n",
              "      quickchartButtonEl.classList.add('colab-df-spinner');\n",
              "      try {\n",
              "        const charts = await google.colab.kernel.invokeFunction(\n",
              "            'suggestCharts', [key], {});\n",
              "      } catch (error) {\n",
              "        console.error('Error during call to suggestCharts:', error);\n",
              "      }\n",
              "      quickchartButtonEl.classList.remove('colab-df-spinner');\n",
              "      quickchartButtonEl.classList.add('colab-df-quickchart-complete');\n",
              "    }\n",
              "    (() => {\n",
              "      let quickchartButtonEl =\n",
              "        document.querySelector('#df-4efff716-1558-4565-a081-58fcb9f614c2 button');\n",
              "      quickchartButtonEl.style.display =\n",
              "        google.colab.kernel.accessAllowed ? 'block' : 'none';\n",
              "    })();\n",
              "  </script>\n",
              "</div>\n",
              "    </div>\n",
              "  </div>\n"
            ]
          },
          "metadata": {},
          "execution_count": 282
        }
      ],
      "source": [
        "sample_a.head()"
      ]
    },
    {
      "cell_type": "code",
      "execution_count": 283,
      "metadata": {
        "colab": {
          "base_uri": "https://localhost:8080/"
        },
        "id": "7sNTpcEHx031",
        "outputId": "35ed5444-ad8e-41c5-c4a3-afd807e27f3a"
      },
      "outputs": [
        {
          "output_type": "stream",
          "name": "stdout",
          "text": [
            "<class 'pandas.core.frame.DataFrame'>\n",
            "RangeIndex: 1188912 entries, 0 to 1188911\n",
            "Data columns (total 3 columns):\n",
            " #   Column     Non-Null Count    Dtype\n",
            "---  ------     --------------    -----\n",
            " 0   user_id    1188912 non-null  int64\n",
            " 1   item_id    1188912 non-null  int64\n",
            " 2   action_id  1188912 non-null  int64\n",
            "dtypes: int64(3)\n",
            "memory usage: 27.2 MB\n"
          ]
        }
      ],
      "source": [
        "sample_a.info()"
      ]
    },
    {
      "cell_type": "code",
      "execution_count": 284,
      "metadata": {
        "colab": {
          "base_uri": "https://localhost:8080/"
        },
        "id": "A9KmlsqnyKfi",
        "outputId": "2c7c4e3c-3dd6-4fff-b9cb-33371467661a"
      },
      "outputs": [
        {
          "output_type": "stream",
          "name": "stdout",
          "text": [
            "<class 'pandas.core.frame.DataFrame'>\n",
            "RangeIndex: 1198438 entries, 0 to 1198437\n",
            "Data columns (total 3 columns):\n",
            " #   Column     Non-Null Count    Dtype\n",
            "---  ------     --------------    -----\n",
            " 0   user_id    1198438 non-null  int64\n",
            " 1   item_id    1198438 non-null  int64\n",
            " 2   action_id  1198438 non-null  int64\n",
            "dtypes: int64(3)\n",
            "memory usage: 27.4 MB\n"
          ]
        }
      ],
      "source": [
        "sample_b.info()"
      ]
    },
    {
      "cell_type": "code",
      "execution_count": 285,
      "metadata": {
        "colab": {
          "base_uri": "https://localhost:8080/"
        },
        "id": "IOMTzXXdyT_j",
        "outputId": "44f5dcc8-ae20-48f0-c2e9-0d1bda977060"
      },
      "outputs": [
        {
          "output_type": "stream",
          "name": "stdout",
          "text": [
            "<class 'pandas.core.frame.DataFrame'>\n",
            "RangeIndex: 1205510 entries, 0 to 1205509\n",
            "Data columns (total 3 columns):\n",
            " #   Column     Non-Null Count    Dtype\n",
            "---  ------     --------------    -----\n",
            " 0   user_id    1205510 non-null  int64\n",
            " 1   item_id    1205510 non-null  int64\n",
            " 2   action_id  1205510 non-null  int64\n",
            "dtypes: int64(3)\n",
            "memory usage: 27.6 MB\n"
          ]
        }
      ],
      "source": [
        "sample_c.info()"
      ]
    },
    {
      "cell_type": "markdown",
      "source": [
        "Выборки сопоставимы по количеству наблюдений.   \n",
        "Тем не менее выборка A меньше, чем выборки С и B."
      ],
      "metadata": {
        "id": "egBOf4Lbb9N-"
      }
    },
    {
      "cell_type": "markdown",
      "metadata": {
        "id": "lTyj1w8E0Wlp"
      },
      "source": [
        "## Очистка данных\n",
        "\n",
        "Напомню, в каждом датасете есть три типа действий пользователей:\n",
        "- 1 — просмотр, пользователь просматривает выдачу товаров\n",
        "- 0 — клик, кликает на понравившийся товар\n",
        "- 2 — покупка.   \n",
        "\n",
        "Проверим наличие ситуаций, когда происходит покупка/клик без действия просмотра.  \n",
        "\n",
        "Для этого сгруппируем данные по пользователю и товару и суммируем значения столбца actoin_id.  \n",
        "Если товар приобретен без просмотра, что является ошибкой, то сумма всех действий в паре пользователь-товар будет равна 2.\n",
        "Если произведен клик без просмотра, что тоже является ошибкой, то сумма всех действий в паре пользователь-товар будет равна 0.\n",
        "\n",
        "Также в данном блоке удалим дубликаты, если они есть.\n"
      ]
    },
    {
      "cell_type": "code",
      "execution_count": 286,
      "metadata": {
        "id": "tvs9KuHyzuWi"
      },
      "outputs": [],
      "source": [
        "# функция перевода имени переменной в строку\n",
        "def var2str(var, vars_data = locals()):\n",
        "    return [var_name for var_name in vars_data if id(var) == id(vars_data[var_name])]\n",
        "\n",
        "def test_group(data):\n",
        "  name = var2str(data)[0]\n",
        "  test = data.groupby(['user_id','item_id'])['action_id'].agg('sum')\n",
        "  print(f'Количество покупок без просмотра в {name}: {len(test. loc [ lambda x : x == 2])}')\n",
        "  print(f'Количество кликов без просмотра в {name}: {len(test. loc [ lambda x : x == 0])}')\n",
        "  print(f'Количество дубликатов в {name}: {len(data)- len(data.drop_duplicates ())}')\n",
        "  print('')"
      ]
    },
    {
      "cell_type": "code",
      "execution_count": 287,
      "metadata": {
        "colab": {
          "base_uri": "https://localhost:8080/"
        },
        "id": "XGR4TDotM4e7",
        "outputId": "bc1b5caf-fb35-4331-f4a7-eb517f7cae12"
      },
      "outputs": [
        {
          "output_type": "stream",
          "name": "stdout",
          "text": [
            "Количество покупок без просмотра в sample_a: 0\n",
            "Количество кликов без просмотра в sample_a: 0\n",
            "Количество дубликатов в sample_a: 0\n",
            "\n",
            "Количество покупок без просмотра в sample_b: 0\n",
            "Количество кликов без просмотра в sample_b: 0\n",
            "Количество дубликатов в sample_b: 0\n",
            "\n",
            "Количество покупок без просмотра в sample_c: 0\n",
            "Количество кликов без просмотра в sample_c: 0\n",
            "Количество дубликатов в sample_c: 0\n",
            "\n"
          ]
        }
      ],
      "source": [
        "test_group(sample_a)\n",
        "test_group(sample_b)\n",
        "test_group(sample_c)"
      ]
    },
    {
      "cell_type": "markdown",
      "metadata": {
        "id": "2434db1b-17e6-4977-8e54-1df875c6f221"
      },
      "source": [
        "## **Оценим и исключим пересечения данных в группах**\n",
        "\n",
        "Проверим, есть ли пользователи и сколько, которые в процессе A/B/A-теста попали вo все тестовые группы?"
      ]
    },
    {
      "cell_type": "code",
      "execution_count": 288,
      "metadata": {
        "colab": {
          "base_uri": "https://localhost:8080/"
        },
        "id": "57a2d711-057d-4f8b-9f56-df0f772d41c8",
        "outputId": "6dfd3848-7602-4062-c154-ba7dd11ac5e4"
      },
      "outputs": [
        {
          "output_type": "stream",
          "name": "stdout",
          "text": [
            "Количество уникальных пользователей в группе A: 996\n",
            "Количество уникальных пользователей в группе В: 996\n",
            "Количество уникальных пользователей в группе C: 994\n",
            "Количество пользователей, попавших в три группы: 0\n"
          ]
        }
      ],
      "source": [
        "#создаем множество пользователей группы А\n",
        "set_a = set(sample_a['user_id'])\n",
        "#cоздаём множество пользователей группы B\n",
        "set_b = set(sample_b['user_id'])\n",
        "#cоздаём множество пользователей группы C\n",
        "set_c = set(sample_c['user_id'])\n",
        "#Пересекаем два этих множества, создаем множество пересечений пользователей групп А и B\n",
        "set_intersection = set_a.intersection(set_b,set_c)\n",
        "#вычисляем количество элементов в полученном множестве\n",
        "print(f'Количество уникальных пользователей в группе A: {len(set_a)}')\n",
        "print(f'Количество уникальных пользователей в группе В: {len(set_b)}')\n",
        "print(f'Количество уникальных пользователей в группе C: {len(set_c)}')\n",
        "print(f'Количество пользователей, попавших в три группы: {len(set_intersection)}')\n"
      ]
    },
    {
      "cell_type": "markdown",
      "source": [
        "Выборки независимы. Данные чисты."
      ],
      "metadata": {
        "id": "-p49MKD-rOeC"
      }
    },
    {
      "cell_type": "markdown",
      "source": [
        "# Рассчитаем метрики\n",
        "\n",
        "Маркетплейс ориентируется на следующие метрики:\n",
        "\n",
        "- ctr (отношение кликов к просмотрам товаров);\n",
        "- purchase rate (отношение покупок к просмотрам товаров);\n",
        "- gmv (Gross Merchandise Volume) оборот, сумма произведений количества покупок на стоимость покупки, где считаем 1 сессию за 1 точку (1 сессия на 1 пользователя)."
      ],
      "metadata": {
        "id": "8scHvOgcS47w"
      }
    },
    {
      "cell_type": "code",
      "source": [
        "def metrics_test(data):\n",
        "  \"\"\" Функция для расчета метрик\n",
        "\n",
        "    Args:\n",
        "        data (DataFrame):выборка, для которой нужно рассчитать метрики\n",
        "\n",
        "    Returns:\n",
        "        ctr, purchase_rate, gmv: Рассчитанные метрики ctr, purchase_rate, gmv\n",
        "  \"\"\"\n",
        "  name = var2str(data)[0]\n",
        "\n",
        "  ctr = round((data[data['action_id'] == 0].shape[0]/data[data['action_id'] == 1].shape[0]),2)\n",
        "  purchase_rate = round((data[data['action_id'] == 2].shape[0]/data[data['action_id'] == 1].shape[0]),2)\n",
        "  merge_table = data.merge(item_prices, how = 'left', on ='item_id')\n",
        "  gmv = merge_table[merge_table['action_id'] == 2].groupby(['user_id'])['item_price'].sum().sum()\n",
        "  print(f'ctr в группе {name}: {ctr}')\n",
        "  print(f'purchase_rate в группе {name}: {purchase_rate}')\n",
        "  print(f'gmv в группе {name}: {gmv} \\n')\n",
        "  return ctr, purchase_rate, gmv"
      ],
      "metadata": {
        "id": "Lqu5KXXHSrNs"
      },
      "execution_count": 289,
      "outputs": []
    },
    {
      "cell_type": "markdown",
      "source": [
        "Произаедём расчет метрик для групп А,В,С"
      ],
      "metadata": {
        "id": "TLtyEBIddlqp"
      }
    },
    {
      "cell_type": "code",
      "source": [
        "ctr_a, purchase_rate_a, gmv_a = metrics_test(sample_a)\n",
        "ctr_b, purchase_rate_b, gmv_b = metrics_test(sample_b)\n",
        "ctr_c, purchase_rate_c, gmv_c = metrics_test(sample_c)"
      ],
      "metadata": {
        "colab": {
          "base_uri": "https://localhost:8080/"
        },
        "id": "U3Ypr4P2ZJdN",
        "outputId": "5bd51f35-5d69-4e94-e5d7-6bfd4d108ce9"
      },
      "execution_count": 290,
      "outputs": [
        {
          "output_type": "stream",
          "name": "stdout",
          "text": [
            "ctr в группе sample_a: 0.2\n",
            "purchase_rate в группе sample_a: 0.05\n",
            "gmv в группе sample_a: 53060177 \n",
            "\n",
            "ctr в группе sample_b: 0.16\n",
            "purchase_rate в группе sample_b: 0.1\n",
            "gmv в группе sample_b: 106047378 \n",
            "\n",
            "ctr в группе sample_c: 0.21\n",
            "purchase_rate в группе sample_c: 0.06\n",
            "gmv в группе sample_c: 63614910 \n",
            "\n"
          ]
        }
      ]
    },
    {
      "cell_type": "code",
      "source": [
        "print(f'Отношение gmv в группе В к группам А и С вместе взятым: {round(gmv_b/(gmv_a + gmv_c),2)}')"
      ],
      "metadata": {
        "colab": {
          "base_uri": "https://localhost:8080/"
        },
        "id": "Nq-b5Stz3V7Y",
        "outputId": "47af9eaa-939f-4fd2-bfbf-713356fa292f"
      },
      "execution_count": 317,
      "outputs": [
        {
          "output_type": "stream",
          "name": "stdout",
          "text": [
            "Отношение gmv в группе В к группам А и С вместе взятым: 0.91\n"
          ]
        }
      ]
    },
    {
      "cell_type": "markdown",
      "source": [
        "Визуализируем результаты"
      ],
      "metadata": {
        "id": "zl_H990JdwMl"
      }
    },
    {
      "cell_type": "code",
      "source": [
        "ctr = [ctr_a,ctr_b,ctr_c]\n",
        "purchase_rate = [purchase_rate_a, purchase_rate_b, purchase_rate_c]\n",
        "gmv = [gmv_a, gmv_b, gmv_c]\n",
        "\n",
        "name = ['А','В','С']\n",
        "ctr_plot = pd.DataFrame(ctr, name, columns = ['ctr'])\n",
        "purchase_rate_plot = pd.DataFrame(purchase_rate, name, columns = ['purchase_rate'])\n",
        "gmv_plot = pd.DataFrame(gmv, name, columns = ['gmv'])\n",
        "\n",
        "f, axs = plt.subplots(nrows=1, ncols=3, figsize=(15, 5))\n",
        "\n",
        "sns.lineplot(ctr_plot, ax = axs[0]).set (title='ctr')\n",
        "sns.lineplot(purchase_rate_plot, ax = axs[1]).set (title='purchase_rate')\n",
        "sns.lineplot(gmv_plot, ax = axs[2]).set (title='gmv')"
      ],
      "metadata": {
        "colab": {
          "base_uri": "https://localhost:8080/",
          "height": 487
        },
        "id": "s7SnocvWbjiP",
        "outputId": "c87e6e20-1d87-4a34-e74b-0062c49739f5"
      },
      "execution_count": 291,
      "outputs": [
        {
          "output_type": "execute_result",
          "data": {
            "text/plain": [
              "[Text(0.5, 1.0, 'gmv')]"
            ]
          },
          "metadata": {},
          "execution_count": 291
        },
        {
          "output_type": "display_data",
          "data": {
            "text/plain": [
              "<Figure size 1500x500 with 3 Axes>"
            ],
            "image/png": "[encoded data removed]"
          },
          "metadata": {}
        }
      ]
    },
    {
      "cell_type": "markdown",
      "source": [
        "Отношение кликов к просмотрам(ctr) в варианте В ниже, чем у вариантов А и С.  \n",
        "\n",
        "Отношение покупок к показам(purchase_rate) и общий оборот(gmv) выше у В, чем у А и С.  \n",
        "   \n",
        "Т.о. можно предположить, что реагируют на вариант объявления В хуже, но клиент откликается более качественный.   \n",
        "Также можно предположить, что варианты А и С по остальным метрикам друг от друга значительно не отличаются.   \n",
        "\n",
        "В дальнейшем мы проверим эти гипотезы."
      ],
      "metadata": {
        "id": "TbNmEHqHbFTx"
      }
    },
    {
      "cell_type": "markdown",
      "source": [
        "# Проверка на нормальность распределения"
      ],
      "metadata": {
        "id": "8kd8xFl-KFrr"
      }
    },
    {
      "cell_type": "markdown",
      "source": [
        "А пока проверим данные на нормальность, это необходимо для выбора статистического теста.  \n",
        "Отследим, сколько покупок совершили покупатели в каждой из групп.  \n",
        "Эти данные могут описываться нормальным распределением."
      ],
      "metadata": {
        "id": "-A98v7xgv0rG"
      }
    },
    {
      "cell_type": "code",
      "source": [
        "def test_shapiro(data, alpha = 0.01):\n",
        "  # проводим тест Шапиро — Уилка\n",
        "  _, p = stats.shapiro(data)\n",
        "  print('p-value = %.3f' % (p))\n",
        "  # интерпретируем результат\n",
        "  if p <= alpha:\n",
        "      print('Распределение не нормальное')\n",
        "  else:\n",
        "      print('Распределение нормальное \\n')"
      ],
      "metadata": {
        "id": "me0hDBRVvzoN"
      },
      "execution_count": 292,
      "outputs": []
    },
    {
      "cell_type": "code",
      "source": [
        "def shapiro_test(data):\n",
        "  \"\"\" Функция для подготовки данных, расчета теста Шапиро — Уилка и визуализации распределения\n",
        "\n",
        "    Args:\n",
        "        data (DataFrame):выборка\n",
        "\n",
        "    Returns:\n",
        "        : Функция выводит на экран данные о нормальности распределения выборки и гистограмму распределения признака\n",
        "  \"\"\"\n",
        "  name = var2str(data)[0]\n",
        "  print(f'{name}')\n",
        "  item_prices.rename(columns = {'item_price':'sum_sell'}, inplace = True )\n",
        "  merge_table = data.merge(item_prices, how = 'left', on ='item_id')\n",
        "  sum_sell = merge_table[merge_table['action_id'] == 2].groupby(['user_id'])['sum_sell'].sum()\n",
        "  test_shapiro(sum_sell)\n",
        "  sns.histplot(sum_sell)"
      ],
      "metadata": {
        "id": "MU8DKOJByahh"
      },
      "execution_count": 293,
      "outputs": []
    },
    {
      "cell_type": "markdown",
      "source": [
        "Применим функцию определения распределения к выборкам"
      ],
      "metadata": {
        "id": "RVYoDpoIge4V"
      }
    },
    {
      "cell_type": "code",
      "source": [
        "shapiro_test(sample_a)\n",
        "shapiro_test(sample_b)\n",
        "shapiro_test(sample_c)\n",
        "plt.title('Распределение суммы покупки в расчете на одного клиента')\n",
        "plt.legend(labels=['A', 'B', 'C']);"
      ],
      "metadata": {
        "colab": {
          "base_uri": "https://localhost:8080/",
          "height": 698
        },
        "id": "rWaW9Qv40xS-",
        "outputId": "5555547a-d6c6-4fa2-f3b9-a4994ea28195"
      },
      "execution_count": 294,
      "outputs": [
        {
          "output_type": "stream",
          "name": "stdout",
          "text": [
            "sample_a\n",
            "p-value = 0.125\n",
            "Распределение нормальное \n",
            "\n",
            "sample_b\n",
            "p-value = 0.846\n",
            "Распределение нормальное \n",
            "\n",
            "sample_c\n",
            "p-value = 0.020\n",
            "Распределение нормальное \n",
            "\n"
          ]
        },
        {
          "output_type": "display_data",
          "data": {
            "text/plain": [
              "<Figure size 640x480 with 1 Axes>"
            ],
            "image/png": "[encoded data removed]"
          },
          "metadata": {}
        }
      ]
    },
    {
      "cell_type": "markdown",
      "source": [
        "Распределения нормальные, будем применять параметрические тесты.\n",
        "\n",
        "По графику распределения видно, что в группе В клиенты в среднем тратили больше денег, чем в группах А и С.  \n",
        "\n",
        "Проверим данное утверждение с помощью теста на равенство средних."
      ],
      "metadata": {
        "id": "9l941EFA7q9X"
      }
    },
    {
      "cell_type": "markdown",
      "source": [
        "# Тест на равенство средних"
      ],
      "metadata": {
        "id": "jBK6ouS5VvgF"
      }
    },
    {
      "cell_type": "markdown",
      "source": [
        "## Средняя сумма покупки"
      ],
      "metadata": {
        "id": "iprlsi4s-Rci"
      }
    },
    {
      "cell_type": "code",
      "source": [
        "def data_mean(data):\n",
        "  \"\"\" Функция для подготовки данных для анализа средних продаж\n",
        "\n",
        "    Args:\n",
        "        data (DataFrame):выборка\n",
        "\n",
        "    Returns:\n",
        "       sum_sell (DataFrame): Таблица с сгрупппированными по покупателям продажами\n",
        "  \"\"\"\n",
        "  item_prices.rename(columns = {'item_price':'sum_sell'}, inplace = True )\n",
        "  # объединение выборки и таблицы с ценой товаров\n",
        "  merge_table = data.merge(item_prices, how = 'left', on ='item_id')\n",
        "  # группировка по пользователям и агрегирование по сумме продаж\n",
        "  sum_sell = merge_table[merge_table['action_id'] == 2].groupby(['user_id'])['sum_sell'].sum().to_numpy()\n",
        "  return sum_sell"
      ],
      "metadata": {
        "id": "7YMNkD4hCL9a"
      },
      "execution_count": 295,
      "outputs": []
    },
    {
      "cell_type": "markdown",
      "source": [
        "### Пара А и В\n",
        "\n"
      ],
      "metadata": {
        "id": "55uNm08qAdNk"
      }
    },
    {
      "cell_type": "code",
      "source": [
        "# нулевая и альтернативная гипотезы\n",
        "H0 = 'Cредняя сумма покупки в группе А больше или равна средней суммы покупки в группе В'\n",
        "H1 = 'Cредняя сумма покупки в группе А меньше средней суммы покупки в группе В'\n",
        "alpha = 0.05 # уровень значимости\n",
        "\n",
        "data_A = data_mean(sample_a)\n",
        "data_B = data_mean(sample_b)\n",
        "\n",
        "# проводим тест Левена на равенство дисперсий\n",
        "print('Тест на равенство дисперсий')\n",
        "result = stats.levene(data_A, data_B)\n",
        "p = result[1]\n",
        "print('p-value = {:.3f}'.format(p))\n",
        "\n",
        "# интерпретируем результат\n",
        "if p <= alpha:\n",
        "    print('Дисперсии не одинаковы, в stats.ttest_ind нужно использовать параметр equal_var=False.')\n",
        "else:\n",
        "    print('Дисперсии одинаковы, в stats.ttest_ind нужно использовать параметр equal_var=True.')\n",
        "\n",
        "# проводим тест на сравнение средних в группах\n",
        "print('\\nТест на равенство средних')\n",
        "_, p_value = stats.ttest_ind(data_A, data_B, alternative='less', equal_var=False)\n",
        "\n",
        "print('p-value = {:.3f}'.format(p))\n",
        "\n",
        "# сравниваем полученное p-value с уровнем значимости\n",
        "if (p_value < alpha):\n",
        "    print(\"Отвергаем нулевую гипотезу.\")\n",
        "    print(\"Альтернативная гипотеза. H1: {}\".format(H1))\n",
        "else:\n",
        "    print(\"Принимаем нулевую гипотезу. {}\".format(H0))"
      ],
      "metadata": {
        "colab": {
          "base_uri": "https://localhost:8080/"
        },
        "id": "kgQKvAypBPKg",
        "outputId": "4565bf42-961e-4604-cc3a-006477ef2ce0"
      },
      "execution_count": 296,
      "outputs": [
        {
          "output_type": "stream",
          "name": "stdout",
          "text": [
            "Тест на равенство дисперсий\n",
            "p-value = 0.000\n",
            "Дисперсии не одинаковы, в stats.ttest_ind нужно использовать параметр equal_var=False.\n",
            "\n",
            "Тест на равенство средних\n",
            "p-value = 0.000\n",
            "Отвергаем нулевую гипотезу.\n",
            "Альтернативная гипотеза. H1: Cредняя сумма покупки в группе А меньше средней суммы покупки в группе В\n"
          ]
        }
      ]
    },
    {
      "cell_type": "markdown",
      "source": [
        "### Пара А и С"
      ],
      "metadata": {
        "id": "n5OD9KhmHf7w"
      }
    },
    {
      "cell_type": "code",
      "source": [
        "# нулевая и альтернативная гипотезы\n",
        "H0 = 'Cредняя сумма покупки в группе А равна средней суммы покупки в группе C'\n",
        "H1 = 'Cредняя сумма покупки в группе А не равна средней суммы покупки в группе C'\n",
        "\n",
        "# задаём уровень значимости\n",
        "alpha = 0.05\n",
        "\n",
        "data_A = data_mean(sample_a)\n",
        "data_C = data_mean(sample_c)\n",
        "\n",
        "# проводим тест Левена на равенство дисперсий\n",
        "print('Тест на равенство дисперсий')\n",
        "result = stats.levene(data_A, data_C)\n",
        "p = result[1]\n",
        "print('p-value = {:.3f}'.format(p))\n",
        "\n",
        "# интерпретируем результат\n",
        "if p <= alpha:\n",
        "    print('Дисперсии не одинаковы, в stats.ttest_ind нужно использовать параметр equal_var=False.')\n",
        "else:\n",
        "    print('Дисперсии одинаковы, в stats.ttest_ind нужно использовать параметр equal_var=True.')\n",
        "\n",
        "# проводим тест на сравнение средних в группах\n",
        "print('\\nТест на равенство средних')\n",
        "_, p_value = stats.ttest_ind(data_A, data_C, equal_var=False)\n",
        "print('p-value = {:.3f}'.format(p))\n",
        "\n",
        "# сравниваем полученное p-value с уровнем значимости\n",
        "if (p_value < alpha):\n",
        "    print(\"Отвергаем нулевую гипотезу.\")\n",
        "    print(\"Альтернативная гипотеза. H1: {}\".format(H1))\n",
        "else:\n",
        "    print(\"Принимаем нулевую гипотезу. {}\".format(H0))"
      ],
      "metadata": {
        "colab": {
          "base_uri": "https://localhost:8080/"
        },
        "id": "4Rrkv-XvIiej",
        "outputId": "c9252dcd-2ba7-4991-dd5d-a8034b62ef07"
      },
      "execution_count": 297,
      "outputs": [
        {
          "output_type": "stream",
          "name": "stdout",
          "text": [
            "Тест на равенство дисперсий\n",
            "p-value = 0.006\n",
            "Дисперсии не одинаковы, в stats.ttest_ind нужно использовать параметр equal_var=False.\n",
            "\n",
            "Тест на равенство средних\n",
            "p-value = 0.006\n",
            "Отвергаем нулевую гипотезу.\n",
            "Альтернативная гипотеза. H1: Cредняя сумма покупки в группе А не равна средней суммы покупки в группе C\n"
          ]
        }
      ]
    },
    {
      "cell_type": "markdown",
      "source": [
        "Тест подтверждает, что продажи в группе В статистически выше, чем в А.  \n",
        "Однако, средние суммы покупок в А и С не совпадают, что подвергает сомнению идею, что на продажи в В влияет именно алгоритм."
      ],
      "metadata": {
        "id": "WuPBV4ZDimvD"
      }
    },
    {
      "cell_type": "markdown",
      "source": [
        "# Тесты на равенство долей"
      ],
      "metadata": {
        "id": "CO6B7u3T2rER"
      }
    },
    {
      "cell_type": "markdown",
      "source": [
        "Теперь сравним статистическую значимость различий метрик по группам"
      ],
      "metadata": {
        "id": "Um_vLrVqja7W"
      }
    },
    {
      "cell_type": "markdown",
      "source": [
        "## CTR\n",
        "Для проверки гипотезы о равенстве долевых показателей в группах применим Z-тест для пропорций.\n",
        "Т.к.выборка более 30 элементов, типы переменных количественные и сравниваются 2 группы.\n",
        "\n"
      ],
      "metadata": {
        "id": "hH6GgzJOWFfU"
      }
    },
    {
      "cell_type": "code",
      "source": [
        "def ctr_table(data1, data2):\n",
        "  \"\"\" Функция для подготовки данных для расчета показателя ctr\n",
        "\n",
        "    Args:\n",
        "        data1, data2 (DataFrame):сравиниваемые выборки\n",
        "\n",
        "    Returns:\n",
        "       table_ztest (DataFrame): Таблица с сгрупппированными для расчета ctr данными\n",
        "  \"\"\"\n",
        "  name1 = var2str(data1)[0]\n",
        "  name2 = var2str(data2)[0]\n",
        "\n",
        "  success1 = data1[data1['action_id'] == 0].shape[0]\n",
        "  success2 = data2[data2['action_id'] == 0].shape[0]\n",
        "  all1 = data1[data1['action_id'] == 1].shape[0]\n",
        "  all2 = data2[data2['action_id'] == 1].shape[0]\n",
        "\n",
        "  data = {name1: [success1, all1], name2: [success2, all2]}\n",
        "  table_ztest = pd.DataFrame.from_dict(data, orient='index', columns=['success', 'count'])\n",
        "  print('ctr_compare')\n",
        "  print(table_ztest)\n",
        "  return table_ztest"
      ],
      "metadata": {
        "id": "9Oi4UGUbfOpi"
      },
      "execution_count": 298,
      "outputs": []
    },
    {
      "cell_type": "markdown",
      "source": [
        "### Пара А и В"
      ],
      "metadata": {
        "id": "-ZxeS0A4lv72"
      }
    },
    {
      "cell_type": "code",
      "source": [
        "ctr_compare = ctr_table(sample_a, sample_b)"
      ],
      "metadata": {
        "colab": {
          "base_uri": "https://localhost:8080/"
        },
        "id": "Qj-OrwmFgDex",
        "outputId": "7c6e3c9c-5938-4cb0-bb00-65d781324dde"
      },
      "execution_count": 299,
      "outputs": [
        {
          "output_type": "stream",
          "name": "stdout",
          "text": [
            "ctr_compare\n",
            "          success   count\n",
            "sample_a   190226  951130\n",
            "sample_b   152183  951141\n"
          ]
        }
      ]
    },
    {
      "cell_type": "code",
      "source": [
        "# нулевая и альтернативная гипотезы\n",
        "H0 = 'Отношение кликов к просмотрам(ctr) в группах А и B равны'\n",
        "H1 = 'Отношение кликов к просмотрам(ctr) в группе А выше, чем в группе B'\n",
        "alpha = 0.05 # уровень значимости\n",
        "\n",
        "# вычисляем значение p-value для z-теста для пропорций\n",
        "_, p_value = proportions_ztest(\n",
        "    count=ctr_compare['success'], #число \"успехов\"\n",
        "    nobs=ctr_compare['count'], #общее число наблюдений\n",
        "    alternative='larger',\n",
        ")\n",
        "# выводим результат на экран\n",
        "print('p-value: ', round(p_value, 2))\n",
        "# сравниваем полученное p-value с уровнем значимости\n",
        "if (p_value < alpha):\n",
        "    print(\"Отвергаем нулевую гипотезу.\")\n",
        "    print(\"Альтернативная гипотеза. H1: {}\".format(H1))\n",
        "else:\n",
        "    print(\"Принимаем нулевую гипотезу. {}\".format(H0))"
      ],
      "metadata": {
        "id": "kI6n-wV0l9J8",
        "colab": {
          "base_uri": "https://localhost:8080/"
        },
        "outputId": "16be9646-ea65-432b-b489-52ac6228aabe"
      },
      "execution_count": 300,
      "outputs": [
        {
          "output_type": "stream",
          "name": "stdout",
          "text": [
            "p-value:  0.0\n",
            "Отвергаем нулевую гипотезу.\n",
            "Альтернативная гипотеза. H1: Отношение кликов к просмотрам(ctr) в группе А выше, чем в группе B\n"
          ]
        }
      ]
    },
    {
      "cell_type": "markdown",
      "source": [
        "### Пара А и C"
      ],
      "metadata": {
        "id": "Smh0ju682TWG"
      }
    },
    {
      "cell_type": "code",
      "source": [
        "ctr_compare = ctr_table(sample_a, sample_c)"
      ],
      "metadata": {
        "colab": {
          "base_uri": "https://localhost:8080/"
        },
        "outputId": "24e06bb3-a16d-414b-b49f-7a981874f9c6",
        "id": "Al-ETFR_2TWJ"
      },
      "execution_count": 301,
      "outputs": [
        {
          "output_type": "stream",
          "name": "stdout",
          "text": [
            "ctr_compare\n",
            "          success   count\n",
            "sample_a   190226  951130\n",
            "sample_c   199336  949221\n"
          ]
        }
      ]
    },
    {
      "cell_type": "code",
      "source": [
        "# нулевая и альтернативная гипотезы\n",
        "H0 = 'Отношение кликов к просмотрам(ctr) в группах А и C равны'\n",
        "H1 = 'Отношение кликов к просмотрам(ctr) в группе А выше, чем в группе C'\n",
        "alpha = 0.05 # уровень значимости\n",
        "\n",
        "# вычисляем значение p-value для z-теста для пропорций\n",
        "_, p_value = proportions_ztest(\n",
        "    count=ctr_compare['success'], #число \"успехов\"\n",
        "    nobs=ctr_compare['count'], #общее число наблюдений\n",
        "    alternative='larger',\n",
        ")\n",
        "# выводим результат на экран\n",
        "print('p-value: ', round(p_value, 2))\n",
        "# сравниваем полученное p-value с уровнем значимости\n",
        "if (p_value < alpha):\n",
        "    print(\"Отвергаем нулевую гипотезу. {}\".format(H0))\n",
        "    print(\"Альтернативная гипотеза. H1: {}\".format(H1))\n",
        "else:\n",
        "    print(\"Принимаем нулевую гипотезу. {}\".format(H0))"
      ],
      "metadata": {
        "colab": {
          "base_uri": "https://localhost:8080/"
        },
        "outputId": "9a535f71-90b0-43bf-d56c-7d4ac0946a6b",
        "id": "sjHZ7CW72TWK"
      },
      "execution_count": 302,
      "outputs": [
        {
          "output_type": "stream",
          "name": "stdout",
          "text": [
            "p-value:  1.0\n",
            "Принимаем нулевую гипотезу. Отношение кликов к просмотрам(ctr) в группах А и C равны\n"
          ]
        }
      ]
    },
    {
      "cell_type": "markdown",
      "source": [
        "По результатам сравнения метрик можно подтвердить предварительные выводы на основе визуализации, покупатели одинаково часто кликают на показы в группах А и С и чаще, чем в группе В."
      ],
      "metadata": {
        "id": "geh72HjpoSED"
      }
    },
    {
      "cell_type": "markdown",
      "source": [
        "## Purchase_rate\n",
        "Для проверки гипотезы о равенстве долевых показателей в группах применим Z-тест для пропорций.\n",
        "Т.к.выборка более 30 элементов, типы переменных количественные и сравниваются 2 группы.\n",
        "\n"
      ],
      "metadata": {
        "id": "gUmm5sun3bzs"
      }
    },
    {
      "cell_type": "code",
      "source": [
        "def purchase_table(data1, data2):\n",
        "  \"\"\" Функция для подготовки данных для расчета показателя purchase_rate\n",
        "\n",
        "    Args:\n",
        "        data1, data2 (DataFrame):сравиниваемые выборки\n",
        "\n",
        "    Returns:\n",
        "       table_ztest (DataFrame): Таблица с сгрупппированными для расчета ctr данными\n",
        "  \"\"\"\n",
        "  name1 = var2str(data1)[0]\n",
        "  name2 = var2str(data2)[0]\n",
        "\n",
        "  success1 = data1[data1['action_id'] == 2].shape[0]\n",
        "  success2 = data2[data2['action_id'] == 2].shape[0]\n",
        "  all1 = data1[data1['action_id'] == 1].shape[0]\n",
        "  all2 = data2[data2['action_id'] == 1].shape[0]\n",
        "\n",
        "  data = {name1: [success1, all1], name2: [success2, all2]}\n",
        "  table_ztest = pd.DataFrame.from_dict(data, orient='index', columns=['success', 'count'])\n",
        "  print('purchase_compare')\n",
        "  print(table_ztest)\n",
        "  return table_ztest"
      ],
      "metadata": {
        "id": "KdiSjjel3b0F"
      },
      "execution_count": 303,
      "outputs": []
    },
    {
      "cell_type": "markdown",
      "source": [
        "### Пара А и В"
      ],
      "metadata": {
        "id": "t95bveOG3b0G"
      }
    },
    {
      "cell_type": "code",
      "source": [
        "purchase_compare = purchase_table(sample_a, sample_b)"
      ],
      "metadata": {
        "colab": {
          "base_uri": "https://localhost:8080/"
        },
        "outputId": "7463f9eb-617d-4033-8aa5-51b6fe0a381f",
        "id": "ZJ-G2zVs3b0H"
      },
      "execution_count": 304,
      "outputs": [
        {
          "output_type": "stream",
          "name": "stdout",
          "text": [
            "purchase_compare\n",
            "          success   count\n",
            "sample_a    47556  951130\n",
            "sample_b    95114  951141\n"
          ]
        }
      ]
    },
    {
      "cell_type": "code",
      "source": [
        "# нулевая и альтернативная гипотезы\n",
        "H0 = 'Отношение покупок к просмотрам(purchase_rate) в группах А и B равны'\n",
        "H1 = 'Отношение покупок к просмотрам(purchase_rate) в группе А выше, чем в группе B'\n",
        "alpha = 0.05 # уровень значимости\n",
        "\n",
        "# вычисляем значение p-value для z-теста для пропорций\n",
        "_, p_value = proportions_ztest(\n",
        "    count=purchase_compare['success'], #число \"успехов\"\n",
        "    nobs=purchase_compare['count'], #общее число наблюдений\n",
        "    alternative='larger',\n",
        ")\n",
        "# выводим результат на экран\n",
        "print('p-value: ', round(p_value, 2))\n",
        "# сравниваем полученное p-value с уровнем значимости\n",
        "if (p_value < alpha):\n",
        "    print(\"Отвергаем нулевую гипотезу. {}\".format(H0))\n",
        "    print(\"Альтернативная гипотеза. H1: {}\".format(H1))\n",
        "else:\n",
        "    print(\"Принимаем нулевую гипотезу. {}\".format(H0))"
      ],
      "metadata": {
        "colab": {
          "base_uri": "https://localhost:8080/"
        },
        "outputId": "c8176854-32b1-474d-f1d2-497accdcd3c0",
        "id": "CV0gyklK3b0I"
      },
      "execution_count": 305,
      "outputs": [
        {
          "output_type": "stream",
          "name": "stdout",
          "text": [
            "p-value:  1.0\n",
            "Принимаем нулевую гипотезу. Отношение покупок к просмотрам(purchase_rate) в группах А и B равны\n"
          ]
        }
      ]
    },
    {
      "cell_type": "markdown",
      "source": [
        "### Пара А и C"
      ],
      "metadata": {
        "id": "iF287GVJ3b0J"
      }
    },
    {
      "cell_type": "code",
      "source": [
        "purchase_compare = purchase_table(sample_a, sample_c)"
      ],
      "metadata": {
        "colab": {
          "base_uri": "https://localhost:8080/"
        },
        "outputId": "b019c14c-f3ec-41a2-a28c-8a088844ed4e",
        "id": "gXL-kvC33b0K"
      },
      "execution_count": 306,
      "outputs": [
        {
          "output_type": "stream",
          "name": "stdout",
          "text": [
            "purchase_compare\n",
            "          success   count\n",
            "sample_a    47556  951130\n",
            "sample_c    56953  949221\n"
          ]
        }
      ]
    },
    {
      "cell_type": "code",
      "source": [
        "# нулевая и альтернативная гипотезы\n",
        "H0 = 'Отношение покупок к просмотрам(purchase_rate) в группах А и C равны'\n",
        "H1 = 'Отношение покупок к просмотрам(purchase_rate) в группе А выше, чем в группе C'\n",
        "alpha = 0.05 # уровень значимости\n",
        "\n",
        "# вычисляем значение p-value для z-теста для пропорций\n",
        "_, p_value = proportions_ztest(\n",
        "    count = purchase_compare['success'], #число \"успехов\"\n",
        "    nobs = purchase_compare['count'], #общее число наблюдений\n",
        "    alternative='larger',\n",
        ")\n",
        "# выводим результат на экран\n",
        "print('p-value: ', round(p_value, 2))\n",
        "# сравниваем полученное p-value с уровнем значимости\n",
        "if (p_value < alpha):\n",
        "    print(\"Отвергаем нулевую гипотезу. {}\".format(H0))\n",
        "    print(\"Альтернативная гипотеза. H1: {}\".format(H1))\n",
        "else:\n",
        "    print(\"Принимаем нулевую гипотезу. {}\".format(H0))"
      ],
      "metadata": {
        "colab": {
          "base_uri": "https://localhost:8080/"
        },
        "outputId": "ac1846ae-98dc-4191-995b-46d4b22f9ffc",
        "id": "UZ-BZkhg3b0L"
      },
      "execution_count": 307,
      "outputs": [
        {
          "output_type": "stream",
          "name": "stdout",
          "text": [
            "p-value:  1.0\n",
            "Принимаем нулевую гипотезу. Отношение покупок к просмотрам(purchase_rate) в группах А и C равны\n"
          ]
        }
      ]
    },
    {
      "cell_type": "markdown",
      "source": [
        "Статистически разница показателя отношения покупок, если человек кликнул на выдачу одинакова у групп А и В, и у А и С."
      ],
      "metadata": {
        "id": "l0y-qZIQplsL"
      }
    },
    {
      "cell_type": "markdown",
      "source": [
        "## gmv (Gross Merchandise Volume)\n",
        "\n",
        "Валовой объем товаров (альтернативно валовая стоимость товаров или GMV ) — это термин, используемый в розничной онлайн-торговле для обозначения общей денежной стоимости продаж (например, в долларах США или евро) товаров, проданных через определенную торговую площадку за определенный период времени."
      ],
      "metadata": {
        "id": "oVFA57t86rHd"
      }
    },
    {
      "cell_type": "markdown",
      "source": [
        "### Пара А и В"
      ],
      "metadata": {
        "id": "hQwQueGgF24G"
      }
    },
    {
      "cell_type": "code",
      "source": [
        "# нулевая и альтернативная гипотезы\n",
        "H0 = 'Отношение gmv в группах А и B к общему gmv равны'\n",
        "H1 = 'Отношение gmv в группах А и B к общему gmv в группе А ниже, чем в группе B'\n",
        "alpha = 0.05 # уровень значимости\n",
        "\n",
        "# вычисляем значение p-value для z-теста для пропорций\n",
        "\n",
        "_, p_value = proportions_ztest(count=[gmv_a, gmv_b], #число \"успехов\"\n",
        "                               nobs=[(gmv_a + gmv_b), (gmv_a + gmv_b)], #общее число наблюдений\n",
        "    alternative='smaller'\n",
        "    )\n",
        "# выводим результат на экран\n",
        "print('p-value: ', round(p_value, 2))\n",
        "# сравниваем полученное p-value с уровнем значимости\n",
        "if (p_value < alpha):\n",
        "    print(\"Отвергаем нулевую гипотезу.\")\n",
        "    print(\"Альтернативная гипотеза. H1: {}\".format(H1))\n",
        "else:\n",
        "    print(\"Принимаем нулевую гипотезу. {}\".format(H0))"
      ],
      "metadata": {
        "colab": {
          "base_uri": "https://localhost:8080/"
        },
        "id": "dGWsrKZdF7KO",
        "outputId": "22b18257-8081-4b0a-87c0-f31d8a6ab553"
      },
      "execution_count": 310,
      "outputs": [
        {
          "output_type": "stream",
          "name": "stdout",
          "text": [
            "p-value:  0.0\n",
            "Отвергаем нулевую гипотезу.\n",
            "Альтернативная гипотеза. H1: Отношение gmv в группах А и B к общему gmv в группе А ниже, чем в группе B\n"
          ]
        }
      ]
    },
    {
      "cell_type": "markdown",
      "source": [
        "### Пара А и С"
      ],
      "metadata": {
        "id": "eVvENjqvFsxZ"
      }
    },
    {
      "cell_type": "code",
      "source": [
        "# нулевая и альтернативная гипотезы\n",
        "H0 = 'Отношение gmv в группах А и C к общему gmv равны'\n",
        "H1 = 'Отношение gmv в группах А и C к общему gmv не равны'\n",
        "alpha = 0.05 # уровень значимости\n",
        "\n",
        "# вычисляем значение p-value для z-теста для пропорций\n",
        "\n",
        "_, p_value = proportions_ztest(count=[gmv_a, gmv_c], #число \"успехов\"\n",
        "                               nobs=[(gmv_a + gmv_c), (gmv_a + gmv_c)], #общее число наблюдений\n",
        "    alternative='two-sided'\n",
        "    )\n",
        "# выводим результат на экран\n",
        "print('p-value: ', round(p_value, 2))\n",
        "# сравниваем полученное p-value с уровнем значимости\n",
        "if (p_value < alpha):\n",
        "    print(\"Отвергаем нулевую гипотезу.\")\n",
        "    print(\"Альтернативная гипотеза. H1: {}\".format(H1))\n",
        "else:\n",
        "    print(\"Принимаем нулевую гипотезу. {}\".format(H0))"
      ],
      "metadata": {
        "colab": {
          "base_uri": "https://localhost:8080/"
        },
        "id": "dlKidWCE97e_",
        "outputId": "42af8b10-a372-4967-c209-5430a162a34e"
      },
      "execution_count": 311,
      "outputs": [
        {
          "output_type": "stream",
          "name": "stdout",
          "text": [
            "p-value:  0.0\n",
            "Отвергаем нулевую гипотезу.\n",
            "Альтернативная гипотеза. H1: Отношение gmv в группах А и C к общему gmv не равны\n"
          ]
        }
      ]
    },
    {
      "cell_type": "markdown",
      "source": [
        "Отношение валовой стоимости товаров проданных в группах А и С статистически разное, а в группе В выше, чем в А.\n"
      ],
      "metadata": {
        "id": "raF_f5V_sPEZ"
      }
    },
    {
      "cell_type": "markdown",
      "source": [
        "# Выводы:  \n"
      ],
      "metadata": {
        "id": "mYTdIKlh-cpV"
      }
    },
    {
      "cell_type": "markdown",
      "metadata": {
        "id": "eC2Up3VokHSP"
      },
      "source": [
        "Для групп А и С, по сути это соревнование с самим собой.\n",
        "Каков же результат?  \n",
        "- Отношение кликов к просмотрам(ctr) одинаковое.  \n",
        "- Отношение покупок к просмотрам(purchase_rate) равны.\n",
        "- Cредняя сумма покупки в группе А не равна средней сумме покупки в группе C.\n",
        "- Отношение gmv в группах А и C к общему gmv не равны, т.е. наблюдается дисбаланс, в одной из групп \"напродавали\" больше.  \n",
        "\n",
        "Скажем так, не идеальные выводы из теста.  \n",
        "Возможно, на одну из этих групп действует неучтённый фактор или факторы.    \n",
        "\n",
        "При этом: группы А и В показали больше различий между собой.\n",
        "- На предложения товаров в группе В кликали хуже, чем в А.\n",
        "- Отношение покупок к просмотрам(purchase_rate) равны.\n",
        "- Cредняя сумма покупки в группе А ниже средней суммы покупки в группе В\n",
        "- Отношение gmv в группах А и B к общему gmv в группе А ниже, чем в группе В\n",
        "- В группе В продажи 91% от вместе взятых групп А и С\n",
        "\n",
        "Общий вывод: Да, сплиты \"разъехались\". Идеального теста А/B/A не получилось, однако GMV на новом алгоритме значительно выросла, клиенты откликались реже, но тратили в среднем больше. А для бизнеса это самое главное.\n",
        "\n",
        "  \n",
        "\n",
        "\n"
      ]
    }
  ],
  "metadata": {
    "colab": {
      "provenance": []
    },
    "kernelspec": {
      "display_name": "Python 3",
      "name": "python3"
    },
    "language_info": {
      "name": "python"
    }
  },
  "nbformat": 4,
  "nbformat_minor": 0
}