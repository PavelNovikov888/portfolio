{
  "cells": [
    {
      "cell_type": "markdown",
      "metadata": {
        "id": "M4V87Rrlh8y1"
      },
      "source": [
        "Контрольная работа.\n",
        "Раздел: EDA-4. Статистические тесты (HW-03)\n",
        "Студент: Новиков Павел Викторович\n",
        "Группа: DSPR-73"
      ]
    },
    {
      "cell_type": "markdown",
      "metadata": {
        "id": "m6vzOi6-h8zD"
      },
      "source": [
        "Задание: Используя информацию по мидиям Петербурга и Магадана, которые представлены в виде двух массивов petersburg и magadan в разделе ANOVA тест, проверьте данные на нормальность и на наличие корреляции. Для этого объедините 2 массива в DataFrame. Обоснуйте выбор теста на корреляцию. Сделайте вывод по гипотезе.\n",
        "Также ответьте на вопрос:\n",
        "Какова разница в среднем размере мидии в зависимости от города-производителя. Обоснуйте выбор теста. Сделайте вывод по гипотезе"
      ]
    },
    {
      "cell_type": "code",
      "execution_count": null,
      "metadata": {
        "id": "gFgCI64Jh8zG"
      },
      "outputs": [],
      "source": [
        "petersburg = [0.0974, 0.1352, 0.0817, 0.1016, 0.0968, 0.1064, 0.105]\n",
        "magadan = [0.1033, 0.0915, 0.0781, 0.0685, 0.0677, 0.0697, 0.0764, 0.0689]\n",
        "\n",
        "petersburg = pd.DataFrame(petersburg, columns = ['Petersburg'])\n",
        "magadan = pd.DataFrame(magadan, columns = ['Magadan'])"
      ]
    },
    {
      "cell_type": "code",
      "execution_count": null,
      "metadata": {
        "id": "xNd9lnYeh8zL"
      },
      "outputs": [],
      "source": [
        "#Объединим датафреймы\n",
        "midii= magadan.join(petersburg)"
      ]
    },
    {
      "cell_type": "code",
      "execution_count": null,
      "metadata": {
        "id": "_HJa1p_Zh8zN"
      },
      "outputs": [],
      "source": [
        "#Заполним отсутствующие значения медианой.\n",
        "midii['Petersburg'] = midii['Petersburg'].fillna(midii['Petersburg'].median())"
      ]
    },
    {
      "cell_type": "code",
      "execution_count": null,
      "metadata": {
        "id": "CVyfLa7oh8zO"
      },
      "outputs": [],
      "source": [
        "#Загрузим библиотеки для работы со статистиками\n",
        "import statsmodels.stats\n",
        "import scipy.stats"
      ]
    },
    {
      "cell_type": "code",
      "execution_count": null,
      "metadata": {
        "id": "YzIAAOvkh8zQ"
      },
      "outputs": [],
      "source": [
        "#Сформулируем гипотезы\n",
        "H0 = \"Данные в признаках midii['Magadan'] и midii['Petersburg'] распределены нормально\"\n",
        "Ha = \"Данные признаках midii['Magadan'] и midii['Petersburg'] не распределены нормально (мы отвергаем H0)\""
      ]
    },
    {
      "cell_type": "code",
      "execution_count": null,
      "metadata": {
        "id": "9IuLV49Wh8zT"
      },
      "outputs": [],
      "source": [
        "#Установим уровень значимости\n",
        "alpha = 0.05"
      ]
    },
    {
      "cell_type": "code",
      "execution_count": null,
      "metadata": {
        "id": "dsq5CRJRh8zW"
      },
      "outputs": [],
      "source": [
        "#Проведём тестирование методом Шапиро-Уилка\n",
        "from scipy.stats import shapiro"
      ]
    },
    {
      "cell_type": "code",
      "execution_count": null,
      "metadata": {
        "id": "UxGVy7J_h8zY",
        "outputId": "bbc182b4-330e-4110-a66b-5203a4294d21"
      },
      "outputs": [
        {
          "name": "stdout",
          "output_type": "stream",
          "text": [
            "p=0.101\n",
            "Данные в признаках midii['Magadan'] и midii['Petersburg'] распределены нормально\n"
          ]
        }
      ],
      "source": [
        "_, p = shapiro(midii)\n",
        "print('p=%.3f' % p)\n",
        "\n",
        "# Интерпретация\n",
        "\n",
        "if p > alpha:\n",
        "\tprint(H0)\n",
        "else:\n",
        "\tprint(Ha)"
      ]
    },
    {
      "cell_type": "markdown",
      "metadata": {
        "id": "Jok5E8yFh8zb"
      },
      "source": [
        "Вывод: Нулевая гипотеза подтвердилась. Данные в признаках midii['Magadan'] и midii['Petersburg'] распределены нормально."
      ]
    },
    {
      "cell_type": "markdown",
      "metadata": {
        "id": "04rwy61oh8zd"
      },
      "source": [
        "Для проведения теста на корреляцию вспомним, что параметрические тесты используются для количественных данных с нормальным распределением, поэтому нам подходит параметрический тест на корреляцию Пирсона."
      ]
    },
    {
      "cell_type": "code",
      "execution_count": null,
      "metadata": {
        "id": "vJy-jWqph8zd"
      },
      "outputs": [],
      "source": [
        "#Сформулируем статистические гипотезы\n",
        "H0 = \"Существует сильная связь между признаками midii['Magadan'] и midii['Petersburg']\"\n",
        "Ha = \"Существует не сильная степень корреляции между признаками midii['Magadan'] и midii['Petersburg']\""
      ]
    },
    {
      "cell_type": "code",
      "execution_count": null,
      "metadata": {
        "id": "e4RocWWnh8zg",
        "outputId": "aae6a652-37de-48cf-8ea0-42a26124bd06"
      },
      "outputs": [
        {
          "data": {
            "text/html": [
              "<div>\n",
              "<style scoped>\n",
              "    .dataframe tbody tr th:only-of-type {\n",
              "        vertical-align: middle;\n",
              "    }\n",
              "\n",
              "    .dataframe tbody tr th {\n",
              "        vertical-align: top;\n",
              "    }\n",
              "\n",
              "    .dataframe thead th {\n",
              "        text-align: right;\n",
              "    }\n",
              "</style>\n",
              "<table border=\"1\" class=\"dataframe\">\n",
              "  <thead>\n",
              "    <tr style=\"text-align: right;\">\n",
              "      <th></th>\n",
              "      <th>Magadan</th>\n",
              "      <th>Petersburg</th>\n",
              "    </tr>\n",
              "  </thead>\n",
              "  <tbody>\n",
              "    <tr>\n",
              "      <th>Magadan</th>\n",
              "      <td>1.000000</td>\n",
              "      <td>0.256665</td>\n",
              "    </tr>\n",
              "    <tr>\n",
              "      <th>Petersburg</th>\n",
              "      <td>0.256665</td>\n",
              "      <td>1.000000</td>\n",
              "    </tr>\n",
              "  </tbody>\n",
              "</table>\n",
              "</div>"
            ],
            "text/plain": [
              "             Magadan  Petersburg\n",
              "Magadan     1.000000    0.256665\n",
              "Petersburg  0.256665    1.000000"
            ]
          },
          "execution_count": 87,
          "metadata": {},
          "output_type": "execute_result"
        }
      ],
      "source": [
        "#в методе corr() корреляция по Пирсону считается автоматически\n",
        "midii.corr()"
      ]
    },
    {
      "cell_type": "code",
      "execution_count": null,
      "metadata": {
        "id": "GQ9xYdtLh8zh"
      },
      "outputs": [],
      "source": [
        "Исходя из полученных данных мы видим очень слабую или отсутсвующую связь между признаками 'Magadan', 'Petersburg'.\n",
        "Нулевая гипотеза не подтвердилась."
      ]
    },
    {
      "cell_type": "markdown",
      "metadata": {
        "id": "k_ZZx_OJh8zi"
      },
      "source": [
        "Мы провели тест на нормальность и поняли, что данные близки к гауссовскому распределению. Значит, мы переходим к параметрическим тестам для проверки нашей нулевой гипотезы. Мы сравниваем количественные переменные, значит используем тест на сравнение выборок. Групп для сравнения всего две, а объектов в в выборке меньше 30, то есть нам нужен T-тест."
      ]
    },
    {
      "cell_type": "code",
      "execution_count": null,
      "metadata": {
        "id": "WBN-fszZh8zi"
      },
      "outputs": [],
      "source": [
        "#Загрузим библиотеку для проведения независимого Т-теста\n",
        "from scipy.stats import ttest_ind"
      ]
    },
    {
      "cell_type": "code",
      "execution_count": null,
      "metadata": {
        "id": "t0yFaRfah8zj"
      },
      "outputs": [],
      "source": [
        "#Сформулируем статистические гипотезы\n",
        "H0 = 'Нет значимой разницы в среднем размере мидии в зависимости от города-производителя.'\n",
        "Ha = 'Есть значимая разница в среднем размере мидии в зависимости от города-производителя.'"
      ]
    },
    {
      "cell_type": "code",
      "execution_count": null,
      "metadata": {
        "id": "mkxfvp_qh8zk",
        "outputId": "1b9b261e-a1db-4d08-c8db-20a61edfcd13"
      },
      "outputs": [
        {
          "name": "stdout",
          "output_type": "stream",
          "text": [
            "\n",
            "*** Результаты независимого T-теста ***\n",
            "0.0 <= 0.05. Мы отвергаем нулевую гипотезу. Есть значимая разница в среднем размере мидии в зависимости от города-производителя.\n"
          ]
        }
      ],
      "source": [
        "def t_test(df):\n",
        "    print('\\n' + \"*** Результаты независимого T-теста ***\")\n",
        "    test_results = ttest_ind(\n",
        "        midii['Magadan'], midii['Petersburg'], equal_var=True)\n",
        "\n",
        "    p = round(test_results[1], 2)\n",
        "\n",
        "    if p > alpha:\n",
        "        print(f\"{p} > {alpha}. Мы не можем отвергнуть нулевую гипотезу. {H0}\")\n",
        "    else:\n",
        "        print(f\"{p} <= {alpha}. Мы отвергаем нулевую гипотезу. {Ha}\")\n",
        "\n",
        "\n",
        "t_test(midii)\n"
      ]
    },
    {
      "cell_type": "code",
      "execution_count": null,
      "metadata": {
        "id": "v0CS4mvDh8zk",
        "outputId": "88a5c0ca-5da9-4dc7-8c96-8bc538c5d4db"
      },
      "outputs": [
        {
          "name": "stdout",
          "output_type": "stream",
          "text": [
            "Разница между средним размером мидий выращенных в Санкт-Петербурге и Магадане равна: 0.0252\n"
          ]
        }
      ],
      "source": [
        "delta = midii['Petersburg'].mean() - midii['Magadan'].mean()\n",
        "print(f'Разница между средним размером мидий выращенных в Санкт-Петербурге и Магадане равна: {delta}')"
      ]
    }
  ],
  "metadata": {
    "interpreter": {
      "hash": "1448b48b023bcc9c3d4a79e814720a10ca6d4244f75e0f7ce4af58f96ba2b7d3"
    },
    "kernelspec": {
      "display_name": "Python 3.9.7 ('base')",
      "language": "python",
      "name": "python3"
    },
    "language_info": {
      "codemirror_mode": {
        "name": "ipython",
        "version": 3
      },
      "file_extension": ".py",
      "mimetype": "text/x-python",
      "name": "python",
      "nbconvert_exporter": "python",
      "pygments_lexer": "ipython3",
      "version": "3.9.7"
    },
    "orig_nbformat": 4,
    "colab": {
      "provenance": []
    }
  },
  "nbformat": 4,
  "nbformat_minor": 0
}